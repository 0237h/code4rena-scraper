{
 "cells": [
  {
   "cell_type": "code",
   "execution_count": 1,
   "id": "b0ba6704",
   "metadata": {
    "execution": {
     "iopub.execute_input": "2023-01-06T15:59:46.927300Z",
     "iopub.status.busy": "2023-01-06T15:59:46.926643Z",
     "iopub.status.idle": "2023-01-06T15:59:47.306523Z",
     "shell.execute_reply": "2023-01-06T15:59:47.305684Z"
    }
   },
   "outputs": [
    {
     "data": {
      "text/plain": [
       "DataTransformerRegistry.enable('default')"
      ]
     },
     "execution_count": 1,
     "metadata": {},
     "output_type": "execute_result"
    }
   ],
   "source": [
    "import pandas as pd\n",
    "import altair as alt\n",
    "alt.data_transformers.disable_max_rows() # Disable 5_000 rows limit"
   ]
  },
  {
   "cell_type": "code",
   "execution_count": 2,
   "id": "93c05a5d",
   "metadata": {
    "execution": {
     "iopub.execute_input": "2023-01-06T15:59:47.309189Z",
     "iopub.status.busy": "2023-01-06T15:59:47.308760Z",
     "iopub.status.idle": "2023-01-06T15:59:47.436029Z",
     "shell.execute_reply": "2023-01-06T15:59:47.435491Z"
    }
   },
   "outputs": [],
   "source": [
    "findings_data = pd.read_csv(\"https://raw.githubusercontent.com/code-423n4/code423n4.com/main/_data/findings/findings.csv\") # Set path accordingly\n",
    "findings_data[\"contestid\"] = findings_data[\"contest\"]\n",
    "contests_data = pd.read_csv(\"https://raw.githubusercontent.com/code-423n4/code423n4.com/main/_data/contests/contests.csv\")"
   ]
  },
  {
   "cell_type": "code",
   "execution_count": 3,
   "id": "11933531",
   "metadata": {
    "execution": {
     "iopub.execute_input": "2023-01-06T15:59:47.439249Z",
     "iopub.status.busy": "2023-01-06T15:59:47.438932Z",
     "iopub.status.idle": "2023-01-06T15:59:47.475227Z",
     "shell.execute_reply": "2023-01-06T15:59:47.474686Z"
    }
   },
   "outputs": [],
   "source": [
    "df = pd.merge(findings_data, contests_data[[\"contestid\", \"end_time\"]], on=\"contestid\").drop_duplicates()\n",
    "df[\"end_time\"] = pd.to_datetime(df[\"end_time\"])\n",
    "df[\"risk_label\"] = df[\"risk\"].map(\n",
    "    {\n",
    "        '0': '0_Very low (unused since February 2022)', \n",
    "        '1': '1_Low (unused since February 2022)',\n",
    "        '2': '2_Medium',\n",
    "        '3': '3_High',\n",
    "        'g': 'g_Gas optimization',\n",
    "        'q': 'q_QA report',\n",
    "    }\n",
    ")"
   ]
  },
  {
   "cell_type": "code",
   "execution_count": 4,
   "id": "150ea944",
   "metadata": {
    "execution": {
     "iopub.execute_input": "2023-01-06T15:59:47.482025Z",
     "iopub.status.busy": "2023-01-06T15:59:47.481823Z",
     "iopub.status.idle": "2023-01-06T15:59:47.486206Z",
     "shell.execute_reply": "2023-01-06T15:59:47.485427Z"
    }
   },
   "outputs": [],
   "source": [
    "ordered_legend_reports_labels = [\n",
    "    '3_High',\n",
    "    '2_Medium',\n",
    "    'g_Gas optimization',\n",
    "    'q_QA report',\n",
    "    '1_Low (unused since February 2022)',\n",
    "    '0_Very low (unused since February 2022)', \n",
    "]\n",
    "label_colors = [\"#FE266D\",\"#FA6C44\",\"#F2E713\",\"#D1D811\",\"#0AB6F8\",\"#5688C1\"]\n",
    "chart_width = 850\n",
    "chart_height = 350"
   ]
  },
  {
   "cell_type": "code",
   "execution_count": 5,
   "id": "7c14990c",
   "metadata": {
    "execution": {
     "iopub.execute_input": "2023-01-06T15:59:47.488513Z",
     "iopub.status.busy": "2023-01-06T15:59:47.488221Z",
     "iopub.status.idle": "2023-01-06T15:59:47.553951Z",
     "shell.execute_reply": "2023-01-06T15:59:47.553394Z"
    }
   },
   "outputs": [
    {
     "name": "stderr",
     "output_type": "stream",
     "text": [
      "/opt/hostedtoolcache/Python/3.11.1/x64/lib/python3.11/site-packages/altair/utils/core.py:317: FutureWarning: iteritems is deprecated and will be removed in a future version. Use .items instead.\n",
      "  for col_name, dtype in df.dtypes.iteritems():\n"
     ]
    },
    {
     "data": {
      "text/html": [
       "\n",
       "<div id=\"altair-viz-3a57a716c7fa4a779c10c720bac65e31\"></div>\n",
       "<script type=\"text/javascript\">\n",
       "  var VEGA_DEBUG = (typeof VEGA_DEBUG == \"undefined\") ? {} : VEGA_DEBUG;\n",
       "  (function(spec, embedOpt){\n",
       "    let outputDiv = document.currentScript.previousElementSibling;\n",
       "    if (outputDiv.id !== \"altair-viz-3a57a716c7fa4a779c10c720bac65e31\") {\n",
       "      outputDiv = document.getElementById(\"altair-viz-3a57a716c7fa4a779c10c720bac65e31\");\n",
       "    }\n",
       "    const paths = {\n",
       "      \"vega\": \"https://cdn.jsdelivr.net/npm//vega@5?noext\",\n",
       "      \"vega-lib\": \"https://cdn.jsdelivr.net/npm//vega-lib?noext\",\n",
       "      \"vega-lite\": \"https://cdn.jsdelivr.net/npm//vega-lite@4.17.0?noext\",\n",
       "      \"vega-embed\": \"https://cdn.jsdelivr.net/npm//vega-embed@6?noext\",\n",
       "    };\n",
       "\n",
       "    function maybeLoadScript(lib, version) {\n",
       "      var key = `${lib.replace(\"-\", \"\")}_version`;\n",
       "      return (VEGA_DEBUG[key] == version) ?\n",
       "        Promise.resolve(paths[lib]) :\n",
       "        new Promise(function(resolve, reject) {\n",
       "          var s = document.createElement('script');\n",
       "          document.getElementsByTagName(\"head\")[0].appendChild(s);\n",
       "          s.async = true;\n",
       "          s.onload = () => {\n",
       "            VEGA_DEBUG[key] = version;\n",
       "            return resolve(paths[lib]);\n",
       "          };\n",
       "          s.onerror = () => reject(`Error loading script: ${paths[lib]}`);\n",
       "          s.src = paths[lib];\n",
       "        });\n",
       "    }\n",
       "\n",
       "    function showError(err) {\n",
       "      outputDiv.innerHTML = `<div class=\"error\" style=\"color:red;\">${err}</div>`;\n",
       "      throw err;\n",
       "    }\n",
       "\n",
       "    function displayChart(vegaEmbed) {\n",
       "      vegaEmbed(outputDiv, spec, embedOpt)\n",
       "        .catch(err => showError(`Javascript Error: ${err.message}<br>This usually means there's a typo in your chart specification. See the javascript console for the full traceback.`));\n",
       "    }\n",
       "\n",
       "    if(typeof define === \"function\" && define.amd) {\n",
       "      requirejs.config({paths});\n",
       "      require([\"vega-embed\"], displayChart, err => showError(`Error loading script: ${err.message}`));\n",
       "    } else {\n",
       "      maybeLoadScript(\"vega\", \"5\")\n",
       "        .then(() => maybeLoadScript(\"vega-lite\", \"4.17.0\"))\n",
       "        .then(() => maybeLoadScript(\"vega-embed\", \"6\"))\n",
       "        .catch(showError)\n",
       "        .then(() => displayChart(vegaEmbed));\n",
       "    }\n",
       "  })({\"config\": {\"view\": {\"continuousWidth\": 400, \"continuousHeight\": 300}}, \"data\": {\"name\": \"data-af3ce811592efad0bfdba27ce83075c7\"}, \"mark\": \"bar\", \"encoding\": {\"color\": {\"field\": \"risk_label\", \"legend\": {\"labelFontSize\": 12, \"labelLimit\": 250, \"orient\": \"top\"}, \"scale\": {\"domain\": [\"3_High\", \"2_Medium\", \"g_Gas optimization\", \"q_QA report\", \"1_Low (unused since February 2022)\"], \"range\": [\"#FE266D\", \"#FA6C44\", \"#F2E713\", \"#D1D811\", \"#0AB6F8\"]}, \"title\": \"Risk level\", \"type\": \"nominal\"}, \"column\": {\"field\": \"risk_label\", \"sort\": [\"3_High\", \"2_Medium\", \"g_Gas optimization\", \"q_QA report\", \"1_Low (unused since February 2022)\"], \"title\": \"\", \"type\": \"nominal\"}, \"tooltip\": [{\"field\": \"risk_label\", \"type\": \"nominal\"}, {\"field\": \"split\", \"type\": \"ordinal\"}, {\"field\": \"awardUSD\", \"type\": \"quantitative\"}], \"x\": {\"field\": \"split\", \"title\": \"Number of wardens sharing a finding\", \"type\": \"ordinal\"}, \"y\": {\"axis\": {\"format\": \"$,.0f\"}, \"field\": \"awardUSD\", \"title\": \"Finding $USD value\", \"type\": \"quantitative\"}}, \"resolve\": {\"axis\": {\"x\": \"independent\"}, \"scale\": {\"y\": \"independent\"}}, \"title\": \"Findings' value distribution according to number of shared submissions by risk level\", \"transform\": [{\"filter\": \"(datum.risk_label !== '0_Very low (unused since February 2022)')\"}], \"width\": 400, \"$schema\": \"https://vega.github.io/schema/vega-lite/v4.17.0.json\", \"datasets\": {\"data-af3ce811592efad0bfdba27ce83075c7\": [{\"risk_label\": \"0_Very low (unused since February 2022)\", \"split\": 0, \"awardUSD\": 0.0}, {\"risk_label\": \"0_Very low (unused since February 2022)\", \"split\": 1, \"awardUSD\": 0.0}, {\"risk_label\": \"0_Very low (unused since February 2022)\", \"split\": 2, \"awardUSD\": 0.0}, {\"risk_label\": \"0_Very low (unused since February 2022)\", \"split\": 3, \"awardUSD\": 0.0}, {\"risk_label\": \"0_Very low (unused since February 2022)\", \"split\": 4, \"awardUSD\": 0.0}, {\"risk_label\": \"0_Very low (unused since February 2022)\", \"split\": 5, \"awardUSD\": 0.0}, {\"risk_label\": \"0_Very low (unused since February 2022)\", \"split\": 6, \"awardUSD\": 0.0}, {\"risk_label\": \"0_Very low (unused since February 2022)\", \"split\": 7, \"awardUSD\": 0.0}, {\"risk_label\": \"0_Very low (unused since February 2022)\", \"split\": 8, \"awardUSD\": 0.0}, {\"risk_label\": \"0_Very low (unused since February 2022)\", \"split\": 9, \"awardUSD\": 0.0}, {\"risk_label\": \"0_Very low (unused since February 2022)\", \"split\": 10, \"awardUSD\": 0.0}, {\"risk_label\": \"1_Low (unused since February 2022)\", \"split\": 1, \"awardUSD\": 567.13}, {\"risk_label\": \"1_Low (unused since February 2022)\", \"split\": 2, \"awardUSD\": 263.32}, {\"risk_label\": \"1_Low (unused since February 2022)\", \"split\": 3, \"awardUSD\": 178.91}, {\"risk_label\": \"1_Low (unused since February 2022)\", \"split\": 4, \"awardUSD\": 106.91}, {\"risk_label\": \"1_Low (unused since February 2022)\", \"split\": 5, \"awardUSD\": 74.53}, {\"risk_label\": \"1_Low (unused since February 2022)\", \"split\": 6, \"awardUSD\": 43.64}, {\"risk_label\": \"1_Low (unused since February 2022)\", \"split\": 7, \"awardUSD\": 65.79}, {\"risk_label\": \"1_Low (unused since February 2022)\", \"split\": 8, \"awardUSD\": 39.605000000000004}, {\"risk_label\": \"1_Low (unused since February 2022)\", \"split\": 9, \"awardUSD\": 37.37}, {\"risk_label\": \"1_Low (unused since February 2022)\", \"split\": 10, \"awardUSD\": 34.535}, {\"risk_label\": \"1_Low (unused since February 2022)\", \"split\": 12, \"awardUSD\": 15.44}, {\"risk_label\": \"1_Low (unused since February 2022)\", \"split\": 13, \"awardUSD\": 15.184999999999999}, {\"risk_label\": \"2_Medium\", \"split\": 1, \"awardUSD\": 1941.95}, {\"risk_label\": \"2_Medium\", \"split\": 2, \"awardUSD\": 933.85}, {\"risk_label\": \"2_Medium\", \"split\": 3, \"awardUSD\": 543.52}, {\"risk_label\": \"2_Medium\", \"split\": 4, \"awardUSD\": 378.21}, {\"risk_label\": \"2_Medium\", \"split\": 5, \"awardUSD\": 285.36}, {\"risk_label\": \"2_Medium\", \"split\": 6, \"awardUSD\": 224.75}, {\"risk_label\": \"2_Medium\", \"split\": 7, \"awardUSD\": 198.43}, {\"risk_label\": \"2_Medium\", \"split\": 8, \"awardUSD\": 137.95}, {\"risk_label\": \"2_Medium\", \"split\": 9, \"awardUSD\": 103.15}, {\"risk_label\": \"2_Medium\", \"split\": 10, \"awardUSD\": 104.72}, {\"risk_label\": \"2_Medium\", \"split\": 11, \"awardUSD\": 141.94}, {\"risk_label\": \"2_Medium\", \"split\": 12, \"awardUSD\": 69.9}, {\"risk_label\": \"2_Medium\", \"split\": 13, \"awardUSD\": 122.83500000000001}, {\"risk_label\": \"2_Medium\", \"split\": 14, \"awardUSD\": 40.525}, {\"risk_label\": \"2_Medium\", \"split\": 15, \"awardUSD\": 58.87}, {\"risk_label\": \"2_Medium\", \"split\": 16, \"awardUSD\": 47.215}, {\"risk_label\": \"2_Medium\", \"split\": 17, \"awardUSD\": 25.78}, {\"risk_label\": \"2_Medium\", \"split\": 18, \"awardUSD\": 19.98}, {\"risk_label\": \"2_Medium\", \"split\": 19, \"awardUSD\": 66.81}, {\"risk_label\": \"2_Medium\", \"split\": 20, \"awardUSD\": 8.01}, {\"risk_label\": \"2_Medium\", \"split\": 21, \"awardUSD\": 11.03}, {\"risk_label\": \"2_Medium\", \"split\": 22, \"awardUSD\": 16.97}, {\"risk_label\": \"2_Medium\", \"split\": 23, \"awardUSD\": 24.3}, {\"risk_label\": \"2_Medium\", \"split\": 24, \"awardUSD\": 2.48}, {\"risk_label\": \"2_Medium\", \"split\": 25, \"awardUSD\": 10.89}, {\"risk_label\": \"2_Medium\", \"split\": 27, \"awardUSD\": 8.17}, {\"risk_label\": \"2_Medium\", \"split\": 28, \"awardUSD\": 5.61}, {\"risk_label\": \"2_Medium\", \"split\": 29, \"awardUSD\": 3.6100000000000003}, {\"risk_label\": \"2_Medium\", \"split\": 30, \"awardUSD\": 5.525}, {\"risk_label\": \"2_Medium\", \"split\": 32, \"awardUSD\": 5.34}, {\"risk_label\": \"2_Medium\", \"split\": 33, \"awardUSD\": 1.4}, {\"risk_label\": \"2_Medium\", \"split\": 35, \"awardUSD\": 3.41}, {\"risk_label\": \"2_Medium\", \"split\": 44, \"awardUSD\": 0.74}, {\"risk_label\": \"2_Medium\", \"split\": 48, \"awardUSD\": 0.38}, {\"risk_label\": \"2_Medium\", \"split\": 50, \"awardUSD\": 0.1}, {\"risk_label\": \"2_Medium\", \"split\": 54, \"awardUSD\": 0.15}, {\"risk_label\": \"2_Medium\", \"split\": 85, \"awardUSD\": 0.0}, {\"risk_label\": \"3_High\", \"split\": 0, \"awardUSD\": 0.0}, {\"risk_label\": \"3_High\", \"split\": 1, \"awardUSD\": 4491.16}, {\"risk_label\": \"3_High\", \"split\": 2, \"awardUSD\": 2161.69}, {\"risk_label\": \"3_High\", \"split\": 3, \"awardUSD\": 1297.01}, {\"risk_label\": \"3_High\", \"split\": 4, \"awardUSD\": 768.68}, {\"risk_label\": \"3_High\", \"split\": 5, \"awardUSD\": 607.79}, {\"risk_label\": \"3_High\", \"split\": 6, \"awardUSD\": 440.68}, {\"risk_label\": \"3_High\", \"split\": 7, \"awardUSD\": 386.03499999999997}, {\"risk_label\": \"3_High\", \"split\": 8, \"awardUSD\": 263.61}, {\"risk_label\": \"3_High\", \"split\": 9, \"awardUSD\": 339.655}, {\"risk_label\": \"3_High\", \"split\": 10, \"awardUSD\": 126.34}, {\"risk_label\": \"3_High\", \"split\": 11, \"awardUSD\": 165.63}, {\"risk_label\": \"3_High\", \"split\": 12, \"awardUSD\": 153.33499999999998}, {\"risk_label\": \"3_High\", \"split\": 13, \"awardUSD\": 97.28}, {\"risk_label\": \"3_High\", \"split\": 14, \"awardUSD\": 84.1}, {\"risk_label\": \"3_High\", \"split\": 15, \"awardUSD\": 90.06}, {\"risk_label\": \"3_High\", \"split\": 16, \"awardUSD\": 93.28}, {\"risk_label\": \"3_High\", \"split\": 17, \"awardUSD\": 63.93}, {\"risk_label\": \"3_High\", \"split\": 18, \"awardUSD\": 36.61}, {\"risk_label\": \"3_High\", \"split\": 19, \"awardUSD\": 30.475}, {\"risk_label\": \"3_High\", \"split\": 22, \"awardUSD\": 11.19}, {\"risk_label\": \"3_High\", \"split\": 24, \"awardUSD\": 26.77}, {\"risk_label\": \"3_High\", \"split\": 27, \"awardUSD\": 11.08}, {\"risk_label\": \"3_High\", \"split\": 32, \"awardUSD\": 14.84}, {\"risk_label\": \"3_High\", \"split\": 33, \"awardUSD\": 14.87}, {\"risk_label\": \"3_High\", \"split\": 45, \"awardUSD\": 114.82}, {\"risk_label\": \"g_Gas optimization\", \"split\": 1, \"awardUSD\": 78.33}, {\"risk_label\": \"g_Gas optimization\", \"split\": 2, \"awardUSD\": 37.09}, {\"risk_label\": \"g_Gas optimization\", \"split\": 3, \"awardUSD\": 26.35}, {\"risk_label\": \"g_Gas optimization\", \"split\": 4, \"awardUSD\": 19.32}, {\"risk_label\": \"g_Gas optimization\", \"split\": 5, \"awardUSD\": 21.17}, {\"risk_label\": \"g_Gas optimization\", \"split\": 6, \"awardUSD\": 14.95}, {\"risk_label\": \"g_Gas optimization\", \"split\": 7, \"awardUSD\": 19.025}, {\"risk_label\": \"g_Gas optimization\", \"split\": 8, \"awardUSD\": 11.87}, {\"risk_label\": \"g_Gas optimization\", \"split\": 9, \"awardUSD\": 11.515}, {\"risk_label\": \"g_Gas optimization\", \"split\": 10, \"awardUSD\": 22.595}, {\"risk_label\": \"g_Gas optimization\", \"split\": 11, \"awardUSD\": 35.54}, {\"risk_label\": \"g_Gas optimization\", \"split\": 12, \"awardUSD\": 30.13}, {\"risk_label\": \"g_Gas optimization\", \"split\": 13, \"awardUSD\": 12.81}, {\"risk_label\": \"g_Gas optimization\", \"split\": 14, \"awardUSD\": 35.35}, {\"risk_label\": \"g_Gas optimization\", \"split\": 15, \"awardUSD\": 54.004999999999995}, {\"risk_label\": \"g_Gas optimization\", \"split\": 17, \"awardUSD\": 45.705}, {\"risk_label\": \"g_Gas optimization\", \"split\": 18, \"awardUSD\": 38.83}, {\"risk_label\": \"g_Gas optimization\", \"split\": 19, \"awardUSD\": 23.665}, {\"risk_label\": \"g_Gas optimization\", \"split\": 20, \"awardUSD\": 15.45}, {\"risk_label\": \"g_Gas optimization\", \"split\": 21, \"awardUSD\": 38.644999999999996}, {\"risk_label\": \"g_Gas optimization\", \"split\": 22, \"awardUSD\": 15.49}, {\"risk_label\": \"g_Gas optimization\", \"split\": 23, \"awardUSD\": 94.66}, {\"risk_label\": \"g_Gas optimization\", \"split\": 26, \"awardUSD\": 45.245000000000005}, {\"risk_label\": \"g_Gas optimization\", \"split\": 27, \"awardUSD\": 22.22}, {\"risk_label\": \"g_Gas optimization\", \"split\": 28, \"awardUSD\": 21.13}, {\"risk_label\": \"g_Gas optimization\", \"split\": 29, \"awardUSD\": 16.66}, {\"risk_label\": \"g_Gas optimization\", \"split\": 30, \"awardUSD\": 25.96}, {\"risk_label\": \"g_Gas optimization\", \"split\": 32, \"awardUSD\": 32.65}, {\"risk_label\": \"g_Gas optimization\", \"split\": 34, \"awardUSD\": 16.66}, {\"risk_label\": \"g_Gas optimization\", \"split\": 35, \"awardUSD\": 52.83}, {\"risk_label\": \"g_Gas optimization\", \"split\": 36, \"awardUSD\": 16.18}, {\"risk_label\": \"g_Gas optimization\", \"split\": 38, \"awardUSD\": 20.79}, {\"risk_label\": \"g_Gas optimization\", \"split\": 39, \"awardUSD\": 56.66499999999999}, {\"risk_label\": \"g_Gas optimization\", \"split\": 41, \"awardUSD\": 5.76}, {\"risk_label\": \"g_Gas optimization\", \"split\": 47, \"awardUSD\": 26.35}, {\"risk_label\": \"g_Gas optimization\", \"split\": 50, \"awardUSD\": 19.01}, {\"risk_label\": \"g_Gas optimization\", \"split\": 68, \"awardUSD\": 21.32}, {\"risk_label\": \"q_QA report\", \"split\": 0, \"awardUSD\": 0.0}, {\"risk_label\": \"q_QA report\", \"split\": 1, \"awardUSD\": 101.88}, {\"risk_label\": \"q_QA report\", \"split\": 2, \"awardUSD\": 63.37}, {\"risk_label\": \"q_QA report\", \"split\": 3, \"awardUSD\": 70.07}, {\"risk_label\": \"q_QA report\", \"split\": 4, \"awardUSD\": 63.945}, {\"risk_label\": \"q_QA report\", \"split\": 5, \"awardUSD\": 54.31}, {\"risk_label\": \"q_QA report\", \"split\": 6, \"awardUSD\": 88.17}, {\"risk_label\": \"q_QA report\", \"split\": 7, \"awardUSD\": 56.49}, {\"risk_label\": \"q_QA report\", \"split\": 8, \"awardUSD\": 85.23}, {\"risk_label\": \"q_QA report\", \"split\": 9, \"awardUSD\": 79.95}, {\"risk_label\": \"q_QA report\", \"split\": 10, \"awardUSD\": 49.51}, {\"risk_label\": \"q_QA report\", \"split\": 11, \"awardUSD\": 78.87}, {\"risk_label\": \"q_QA report\", \"split\": 12, \"awardUSD\": 60.77}, {\"risk_label\": \"q_QA report\", \"split\": 13, \"awardUSD\": 96.38}, {\"risk_label\": \"q_QA report\", \"split\": 14, \"awardUSD\": 34.675}, {\"risk_label\": \"q_QA report\", \"split\": 15, \"awardUSD\": 149.87}, {\"risk_label\": \"q_QA report\", \"split\": 16, \"awardUSD\": 60.325}, {\"risk_label\": \"q_QA report\", \"split\": 17, \"awardUSD\": 52.04}, {\"risk_label\": \"q_QA report\", \"split\": 18, \"awardUSD\": 44.305}, {\"risk_label\": \"q_QA report\", \"split\": 19, \"awardUSD\": 89.19}, {\"risk_label\": \"q_QA report\", \"split\": 20, \"awardUSD\": 43.205}, {\"risk_label\": \"q_QA report\", \"split\": 21, \"awardUSD\": 167.58}, {\"risk_label\": \"q_QA report\", \"split\": 24, \"awardUSD\": 50.28}, {\"risk_label\": \"q_QA report\", \"split\": 26, \"awardUSD\": 36.15}, {\"risk_label\": \"q_QA report\", \"split\": 27, \"awardUSD\": 89.27}, {\"risk_label\": \"q_QA report\", \"split\": 28, \"awardUSD\": 63.94}, {\"risk_label\": \"q_QA report\", \"split\": 30, \"awardUSD\": 35.44}, {\"risk_label\": \"q_QA report\", \"split\": 34, \"awardUSD\": 35.44}, {\"risk_label\": \"q_QA report\", \"split\": 35, \"awardUSD\": 18.86}, {\"risk_label\": \"q_QA report\", \"split\": 39, \"awardUSD\": 37.88}, {\"risk_label\": \"q_QA report\", \"split\": 43, \"awardUSD\": 55.67}, {\"risk_label\": \"q_QA report\", \"split\": 44, \"awardUSD\": 36.34}, {\"risk_label\": \"q_QA report\", \"split\": 45, \"awardUSD\": 111.11}, {\"risk_label\": \"q_QA report\", \"split\": 46, \"awardUSD\": 36.73}, {\"risk_label\": \"q_QA report\", \"split\": 50, \"awardUSD\": 52.03}, {\"risk_label\": \"q_QA report\", \"split\": 51, \"awardUSD\": 39.22}, {\"risk_label\": \"q_QA report\", \"split\": 52, \"awardUSD\": 34.98}, {\"risk_label\": \"q_QA report\", \"split\": 54, \"awardUSD\": 36.62}, {\"risk_label\": \"q_QA report\", \"split\": 58, \"awardUSD\": 19.64}, {\"risk_label\": \"q_QA report\", \"split\": 61, \"awardUSD\": 0.0}, {\"risk_label\": \"q_QA report\", \"split\": 69, \"awardUSD\": 61.35}, {\"risk_label\": \"q_QA report\", \"split\": 89, \"awardUSD\": 55.2}, {\"risk_label\": \"q_QA report\", \"split\": 107, \"awardUSD\": 35.17}]}}, {\"mode\": \"vega-lite\"});\n",
       "</script>"
      ],
      "text/plain": [
       "alt.Chart(...)"
      ]
     },
     "execution_count": 5,
     "metadata": {},
     "output_type": "execute_result"
    }
   ],
   "source": [
    "alt.Chart(df.groupby([\"risk_label\", \"split\"])[\"awardUSD\"].median().reset_index(),\n",
    "          width=400,\n",
    "          title=\"Findings' value distribution according to number of shared submissions by risk level\"\n",
    ").transform_filter(\n",
    "    alt.datum.risk_label != \"0_Very low (unused since February 2022)\"\n",
    ").mark_bar().encode(\n",
    "    x=alt.X(\"split:O\", title=\"Number of wardens sharing a finding\"),\n",
    "    y=alt.Y(\"awardUSD:Q\", title=\"Finding $USD value\", axis=alt.Axis(format='$,.0f')),\n",
    "    color=alt.Color(\n",
    "        'risk_label:N', \n",
    "        title=\"Risk level\",\n",
    "        scale=alt.Scale(domain=ordered_legend_reports_labels[:-1], range=label_colors[:-1]),\n",
    "        legend=alt.Legend(orient=\"top\", labelFontSize=12, labelLimit=250),\n",
    "    ),\n",
    "    column=alt.Column(\"risk_label:N\", sort=ordered_legend_reports_labels[:-1], title=\"\"),\n",
    "    tooltip=[\"risk_label:N\", \"split:O\", \"awardUSD:Q\"]\n",
    ").resolve_scale(\n",
    "    y='independent'\n",
    ").resolve_axis(\n",
    "    x='independent'\n",
    ")"
   ]
  },
  {
   "cell_type": "code",
   "execution_count": 6,
   "id": "55aacb8f",
   "metadata": {
    "execution": {
     "iopub.execute_input": "2023-01-06T15:59:47.557198Z",
     "iopub.status.busy": "2023-01-06T15:59:47.557014Z",
     "iopub.status.idle": "2023-01-06T15:59:47.596518Z",
     "shell.execute_reply": "2023-01-06T15:59:47.595958Z"
    }
   },
   "outputs": [
    {
     "name": "stderr",
     "output_type": "stream",
     "text": [
      "/tmp/ipykernel_1890/3862203495.py:2: UserWarning: Converting to PeriodArray/Index representation will drop timezone information.\n",
      "  df.groupby([df.end_time.dt.to_period(\"M\"), \"risk_label\"])[\"awardUSD\"].mean().reset_index().astype({\"end_time\": str}),\n"
     ]
    }
   ],
   "source": [
    "rewards = alt.Chart(\n",
    "    df.groupby([df.end_time.dt.to_period(\"M\"), \"risk_label\"])[\"awardUSD\"].mean().reset_index().astype({\"end_time\": str}), \n",
    "    width=chart_width, \n",
    "    height=chart_height,\n",
    "    title=\"Value of a submission ($USD) over time by risk level\"\n",
    ").mark_line(\n",
    "    point=True\n",
    ").encode(\n",
    "    x=alt.X('end_time:T', title=\"\"),\n",
    "    y=alt.Y('awardUSD:Q', title=\"\", axis=alt.Axis(format='$,.0f')),\n",
    "    color=alt.Color(\n",
    "        'risk_label:N', \n",
    "        title=\"Risk level\",\n",
    "        scale=alt.Scale(domain=ordered_legend_reports_labels, range=label_colors),\n",
    "        legend=alt.Legend(orient=\"top\", labelFontSize=12, labelLimit=250)\n",
    "    ),\n",
    "    tooltip=['end_time:T', 'risk_label:N', 'awardUSD:Q']\n",
    ")"
   ]
  },
  {
   "cell_type": "code",
   "execution_count": 7,
   "id": "99b7b5ee",
   "metadata": {
    "execution": {
     "iopub.execute_input": "2023-01-06T15:59:47.599031Z",
     "iopub.status.busy": "2023-01-06T15:59:47.598841Z",
     "iopub.status.idle": "2023-01-06T15:59:47.619268Z",
     "shell.execute_reply": "2023-01-06T15:59:47.618721Z"
    }
   },
   "outputs": [
    {
     "name": "stderr",
     "output_type": "stream",
     "text": [
      "/tmp/ipykernel_1890/1810809613.py:2: UserWarning: Converting to PeriodArray/Index representation will drop timezone information.\n",
      "  df.groupby([df.end_time.dt.to_period(\"M\"), \"risk_label\"])[\"contest\"].count().reset_index().astype({\"end_time\": str}),\n"
     ]
    }
   ],
   "source": [
    "submissions = alt.Chart(\n",
    "    df.groupby([df.end_time.dt.to_period(\"M\"), \"risk_label\"])[\"contest\"].count().reset_index().astype({\"end_time\": str}),\n",
    "    width=chart_width,\n",
    "    height=chart_height,\n",
    "    title=\"Expected warden reward ($USD) and number of reports over time by risk level\",\n",
    ").mark_line(\n",
    "    opacity=.75,\n",
    "    strokeDash=[2]\n",
    ").encode(\n",
    "    x=alt.X('end_time:T', title=\"\"),\n",
    "    y=alt.Y('contest:Q', title=\"Number of reports\"),\n",
    "    color=alt.Color(\n",
    "        'risk_label:N', \n",
    "        title=\"Risk level\",\n",
    "        scale=alt.Scale(domain=ordered_legend_reports_labels, range=label_colors),\n",
    "        legend=alt.Legend(orient=\"top\", labelFontSize=12, labelLimit=250),\n",
    "    ),\n",
    ")"
   ]
  },
  {
   "cell_type": "markdown",
   "id": "f63ff21f",
   "metadata": {},
   "source": [
    "## Expected warden reward calculation\n",
    "\n",
    "1. For each contest, take the total number of submissions for each risk level and divide it by the number of participants. This gives a value *X* that corresponds to **the average number of submission for each risk level by a single warden**.\n",
    "2. Now take the mean reward value for each contest and risk level and multiply that by *X*. This gives a value *Y* that corresponds to **the expected warden reward according the average number of submission**.\n",
    "3. Group the contests by their ending date (month/year) and take the mean of the *Y*s. This gives **the expected warden reward per month for each risk level** which is what is plotted in the second chart. "
   ]
  },
  {
   "cell_type": "code",
   "execution_count": 8,
   "id": "c6714ef5",
   "metadata": {
    "execution": {
     "iopub.execute_input": "2023-01-06T15:59:47.621610Z",
     "iopub.status.busy": "2023-01-06T15:59:47.621430Z",
     "iopub.status.idle": "2023-01-06T15:59:47.640546Z",
     "shell.execute_reply": "2023-01-06T15:59:47.640046Z"
    }
   },
   "outputs": [],
   "source": [
    "df2 = pd.merge(df.groupby([\"contest\", \"end_time\", \"risk\"])[[\"finding\"]].count().reset_index(), df.groupby(\"contest\")[\"handle\"].nunique(), on=\"contest\")"
   ]
  },
  {
   "cell_type": "code",
   "execution_count": 9,
   "id": "7bd3543c",
   "metadata": {
    "execution": {
     "iopub.execute_input": "2023-01-06T15:59:47.642868Z",
     "iopub.status.busy": "2023-01-06T15:59:47.642695Z",
     "iopub.status.idle": "2023-01-06T15:59:47.648473Z",
     "shell.execute_reply": "2023-01-06T15:59:47.647936Z"
    }
   },
   "outputs": [],
   "source": [
    "df2[\"average_findings\"] = df2.finding / df2.handle\n",
    "df2[\"end_time\"] = pd.to_datetime(df2[\"end_time\"])"
   ]
  },
  {
   "cell_type": "code",
   "execution_count": 10,
   "id": "db1134bd",
   "metadata": {
    "execution": {
     "iopub.execute_input": "2023-01-06T15:59:47.650524Z",
     "iopub.status.busy": "2023-01-06T15:59:47.650349Z",
     "iopub.status.idle": "2023-01-06T15:59:47.662726Z",
     "shell.execute_reply": "2023-01-06T15:59:47.662232Z"
    }
   },
   "outputs": [],
   "source": [
    "df3 = pd.merge(df, df2[[\"contest\", \"average_findings\", \"risk\"]], on=[\"contest\", \"risk\"])"
   ]
  },
  {
   "cell_type": "code",
   "execution_count": 11,
   "id": "eb907555",
   "metadata": {
    "execution": {
     "iopub.execute_input": "2023-01-06T15:59:47.665095Z",
     "iopub.status.busy": "2023-01-06T15:59:47.664843Z",
     "iopub.status.idle": "2023-01-06T15:59:47.682620Z",
     "shell.execute_reply": "2023-01-06T15:59:47.681999Z"
    }
   },
   "outputs": [
    {
     "data": {
      "text/html": [
       "<div>\n",
       "<style scoped>\n",
       "    .dataframe tbody tr th:only-of-type {\n",
       "        vertical-align: middle;\n",
       "    }\n",
       "\n",
       "    .dataframe tbody tr th {\n",
       "        vertical-align: top;\n",
       "    }\n",
       "\n",
       "    .dataframe thead th {\n",
       "        text-align: right;\n",
       "    }\n",
       "</style>\n",
       "<table border=\"1\" class=\"dataframe\">\n",
       "  <thead>\n",
       "    <tr style=\"text-align: right;\">\n",
       "      <th></th>\n",
       "      <th>end_time</th>\n",
       "      <th>contest</th>\n",
       "      <th>average_findings</th>\n",
       "      <th>risk</th>\n",
       "      <th>risk_label</th>\n",
       "      <th>awardUSD</th>\n",
       "      <th>average_usd_per_risk</th>\n",
       "    </tr>\n",
       "  </thead>\n",
       "  <tbody>\n",
       "    <tr>\n",
       "      <th>0</th>\n",
       "      <td>2021-02-22 23:59:00+00:00</td>\n",
       "      <td>1</td>\n",
       "      <td>0.125000</td>\n",
       "      <td>3</td>\n",
       "      <td>3_High</td>\n",
       "      <td>5702.88</td>\n",
       "      <td>712.860000</td>\n",
       "    </tr>\n",
       "    <tr>\n",
       "      <th>1</th>\n",
       "      <td>2021-02-22 23:59:00+00:00</td>\n",
       "      <td>1</td>\n",
       "      <td>2.125000</td>\n",
       "      <td>1</td>\n",
       "      <td>1_Low (unused since February 2022)</td>\n",
       "      <td>153.98</td>\n",
       "      <td>327.207500</td>\n",
       "    </tr>\n",
       "    <tr>\n",
       "      <th>2</th>\n",
       "      <td>2021-02-22 23:59:00+00:00</td>\n",
       "      <td>1</td>\n",
       "      <td>2.125000</td>\n",
       "      <td>1</td>\n",
       "      <td>1_Low (unused since February 2022)</td>\n",
       "      <td>256.63</td>\n",
       "      <td>545.338750</td>\n",
       "    </tr>\n",
       "    <tr>\n",
       "      <th>3</th>\n",
       "      <td>2021-02-22 23:59:00+00:00</td>\n",
       "      <td>1</td>\n",
       "      <td>2.125000</td>\n",
       "      <td>1</td>\n",
       "      <td>1_Low (unused since February 2022)</td>\n",
       "      <td>256.63</td>\n",
       "      <td>545.338750</td>\n",
       "    </tr>\n",
       "    <tr>\n",
       "      <th>4</th>\n",
       "      <td>2021-02-22 23:59:00+00:00</td>\n",
       "      <td>1</td>\n",
       "      <td>2.125000</td>\n",
       "      <td>1</td>\n",
       "      <td>1_Low (unused since February 2022)</td>\n",
       "      <td>570.29</td>\n",
       "      <td>1211.866250</td>\n",
       "    </tr>\n",
       "    <tr>\n",
       "      <th>...</th>\n",
       "      <td>...</td>\n",
       "      <td>...</td>\n",
       "      <td>...</td>\n",
       "      <td>...</td>\n",
       "      <td>...</td>\n",
       "      <td>...</td>\n",
       "      <td>...</td>\n",
       "    </tr>\n",
       "    <tr>\n",
       "      <th>24849</th>\n",
       "      <td>2022-11-18 20:00:00+00:00</td>\n",
       "      <td>182</td>\n",
       "      <td>0.195652</td>\n",
       "      <td>g</td>\n",
       "      <td>g_Gas optimization</td>\n",
       "      <td>1074.64</td>\n",
       "      <td>210.255652</td>\n",
       "    </tr>\n",
       "    <tr>\n",
       "      <th>24850</th>\n",
       "      <td>2022-11-18 20:00:00+00:00</td>\n",
       "      <td>182</td>\n",
       "      <td>0.195652</td>\n",
       "      <td>g</td>\n",
       "      <td>g_Gas optimization</td>\n",
       "      <td>826.64</td>\n",
       "      <td>161.733913</td>\n",
       "    </tr>\n",
       "    <tr>\n",
       "      <th>24851</th>\n",
       "      <td>2022-11-18 20:00:00+00:00</td>\n",
       "      <td>182</td>\n",
       "      <td>0.195652</td>\n",
       "      <td>g</td>\n",
       "      <td>g_Gas optimization</td>\n",
       "      <td>68.14</td>\n",
       "      <td>13.331739</td>\n",
       "    </tr>\n",
       "    <tr>\n",
       "      <th>24852</th>\n",
       "      <td>2022-11-18 20:00:00+00:00</td>\n",
       "      <td>182</td>\n",
       "      <td>0.195652</td>\n",
       "      <td>g</td>\n",
       "      <td>g_Gas optimization</td>\n",
       "      <td>68.14</td>\n",
       "      <td>13.331739</td>\n",
       "    </tr>\n",
       "    <tr>\n",
       "      <th>24853</th>\n",
       "      <td>2022-11-18 20:00:00+00:00</td>\n",
       "      <td>182</td>\n",
       "      <td>0.195652</td>\n",
       "      <td>g</td>\n",
       "      <td>g_Gas optimization</td>\n",
       "      <td>68.14</td>\n",
       "      <td>13.331739</td>\n",
       "    </tr>\n",
       "  </tbody>\n",
       "</table>\n",
       "<p>24854 rows × 7 columns</p>\n",
       "</div>"
      ],
      "text/plain": [
       "                       end_time  contest  average_findings risk  \\\n",
       "0     2021-02-22 23:59:00+00:00        1          0.125000    3   \n",
       "1     2021-02-22 23:59:00+00:00        1          2.125000    1   \n",
       "2     2021-02-22 23:59:00+00:00        1          2.125000    1   \n",
       "3     2021-02-22 23:59:00+00:00        1          2.125000    1   \n",
       "4     2021-02-22 23:59:00+00:00        1          2.125000    1   \n",
       "...                         ...      ...               ...  ...   \n",
       "24849 2022-11-18 20:00:00+00:00      182          0.195652    g   \n",
       "24850 2022-11-18 20:00:00+00:00      182          0.195652    g   \n",
       "24851 2022-11-18 20:00:00+00:00      182          0.195652    g   \n",
       "24852 2022-11-18 20:00:00+00:00      182          0.195652    g   \n",
       "24853 2022-11-18 20:00:00+00:00      182          0.195652    g   \n",
       "\n",
       "                               risk_label  awardUSD  average_usd_per_risk  \n",
       "0                                  3_High   5702.88            712.860000  \n",
       "1      1_Low (unused since February 2022)    153.98            327.207500  \n",
       "2      1_Low (unused since February 2022)    256.63            545.338750  \n",
       "3      1_Low (unused since February 2022)    256.63            545.338750  \n",
       "4      1_Low (unused since February 2022)    570.29           1211.866250  \n",
       "...                                   ...       ...                   ...  \n",
       "24849                  g_Gas optimization   1074.64            210.255652  \n",
       "24850                  g_Gas optimization    826.64            161.733913  \n",
       "24851                  g_Gas optimization     68.14             13.331739  \n",
       "24852                  g_Gas optimization     68.14             13.331739  \n",
       "24853                  g_Gas optimization     68.14             13.331739  \n",
       "\n",
       "[24854 rows x 7 columns]"
      ]
     },
     "execution_count": 11,
     "metadata": {},
     "output_type": "execute_result"
    }
   ],
   "source": [
    "df3[\"average_usd_per_risk\"] = df3.average_findings * df3.awardUSD\n",
    "df3[[\"end_time\", \"contest\", \"average_findings\", \"risk\", \"risk_label\", \"awardUSD\", \"average_usd_per_risk\"]]"
   ]
  },
  {
   "cell_type": "code",
   "execution_count": 12,
   "id": "9032c059",
   "metadata": {
    "execution": {
     "iopub.execute_input": "2023-01-06T15:59:47.684785Z",
     "iopub.status.busy": "2023-01-06T15:59:47.684613Z",
     "iopub.status.idle": "2023-01-06T15:59:47.731480Z",
     "shell.execute_reply": "2023-01-06T15:59:47.730944Z"
    }
   },
   "outputs": [
    {
     "name": "stderr",
     "output_type": "stream",
     "text": [
      "/tmp/ipykernel_1890/1760306320.py:1: UserWarning: Converting to PeriodArray/Index representation will drop timezone information.\n",
      "  weighted_rewards = alt.Chart(df3.groupby([df3.end_time.dt.to_period(\"M\"), \"risk_label\"])[\"average_usd_per_risk\"].mean().reset_index().astype({\"end_time\": str}),\n"
     ]
    }
   ],
   "source": [
    "weighted_rewards = alt.Chart(df3.groupby([df3.end_time.dt.to_period(\"M\"), \"risk_label\"])[\"average_usd_per_risk\"].mean().reset_index().astype({\"end_time\": str}),\n",
    "          width=chart_width,\n",
    "          height=chart_height\n",
    ").mark_line(point=True).encode(\n",
    "    x='end_time:T',\n",
    "    y=alt.Y('average_usd_per_risk:Q', title=\"\", axis=alt.Axis(format='$,.0f')),\n",
    "    color=alt.Color(\n",
    "        'risk_label:N', \n",
    "        title=\"Risk level\",\n",
    "        scale=alt.Scale(domain=ordered_legend_reports_labels, range=label_colors),\n",
    "        legend=alt.Legend(orient=\"top\", labelFontSize=12, labelLimit=250)\n",
    "    ),\n",
    "    tooltip=['end_time:T', 'risk_label:N', 'average_usd_per_risk:Q']\n",
    ")"
   ]
  },
  {
   "cell_type": "markdown",
   "id": "a42a166a",
   "metadata": {},
   "source": [
    "## Analysis\n",
    "\n",
    "While the hierarchy for a submission value is well respected over time (as shown in the first graph), the expected value tells another story about which category is more worth in the eyes of wardens. With the amount of reports increasing, the expected reward for each category tends to uniformize and it's not clear which of the *mediums* or *highs* findings are more worth than the other.\n",
    "\n",
    "Certainly, the though competiton of recent contests has made the value of *high* and *medium* findings diminish which is not particularly a good sign since their edging closer to the values of easier and potentially automated *gas optimization* and *QA reports*."
   ]
  },
  {
   "cell_type": "code",
   "execution_count": 13,
   "id": "0cb36b64",
   "metadata": {
    "execution": {
     "iopub.execute_input": "2023-01-06T15:59:47.733925Z",
     "iopub.status.busy": "2023-01-06T15:59:47.733721Z",
     "iopub.status.idle": "2023-01-06T15:59:47.774446Z",
     "shell.execute_reply": "2023-01-06T15:59:47.773792Z"
    },
    "scrolled": false
   },
   "outputs": [
    {
     "name": "stderr",
     "output_type": "stream",
     "text": [
      "/opt/hostedtoolcache/Python/3.11.1/x64/lib/python3.11/site-packages/altair/utils/core.py:317: FutureWarning: iteritems is deprecated and will be removed in a future version. Use .items instead.\n",
      "  for col_name, dtype in df.dtypes.iteritems():\n"
     ]
    },
    {
     "data": {
      "text/html": [
       "\n",
       "<div id=\"altair-viz-6b9b00e37ab647818bbc17c2e8e9d4b0\"></div>\n",
       "<script type=\"text/javascript\">\n",
       "  var VEGA_DEBUG = (typeof VEGA_DEBUG == \"undefined\") ? {} : VEGA_DEBUG;\n",
       "  (function(spec, embedOpt){\n",
       "    let outputDiv = document.currentScript.previousElementSibling;\n",
       "    if (outputDiv.id !== \"altair-viz-6b9b00e37ab647818bbc17c2e8e9d4b0\") {\n",
       "      outputDiv = document.getElementById(\"altair-viz-6b9b00e37ab647818bbc17c2e8e9d4b0\");\n",
       "    }\n",
       "    const paths = {\n",
       "      \"vega\": \"https://cdn.jsdelivr.net/npm//vega@5?noext\",\n",
       "      \"vega-lib\": \"https://cdn.jsdelivr.net/npm//vega-lib?noext\",\n",
       "      \"vega-lite\": \"https://cdn.jsdelivr.net/npm//vega-lite@4.17.0?noext\",\n",
       "      \"vega-embed\": \"https://cdn.jsdelivr.net/npm//vega-embed@6?noext\",\n",
       "    };\n",
       "\n",
       "    function maybeLoadScript(lib, version) {\n",
       "      var key = `${lib.replace(\"-\", \"\")}_version`;\n",
       "      return (VEGA_DEBUG[key] == version) ?\n",
       "        Promise.resolve(paths[lib]) :\n",
       "        new Promise(function(resolve, reject) {\n",
       "          var s = document.createElement('script');\n",
       "          document.getElementsByTagName(\"head\")[0].appendChild(s);\n",
       "          s.async = true;\n",
       "          s.onload = () => {\n",
       "            VEGA_DEBUG[key] = version;\n",
       "            return resolve(paths[lib]);\n",
       "          };\n",
       "          s.onerror = () => reject(`Error loading script: ${paths[lib]}`);\n",
       "          s.src = paths[lib];\n",
       "        });\n",
       "    }\n",
       "\n",
       "    function showError(err) {\n",
       "      outputDiv.innerHTML = `<div class=\"error\" style=\"color:red;\">${err}</div>`;\n",
       "      throw err;\n",
       "    }\n",
       "\n",
       "    function displayChart(vegaEmbed) {\n",
       "      vegaEmbed(outputDiv, spec, embedOpt)\n",
       "        .catch(err => showError(`Javascript Error: ${err.message}<br>This usually means there's a typo in your chart specification. See the javascript console for the full traceback.`));\n",
       "    }\n",
       "\n",
       "    if(typeof define === \"function\" && define.amd) {\n",
       "      requirejs.config({paths});\n",
       "      require([\"vega-embed\"], displayChart, err => showError(`Error loading script: ${err.message}`));\n",
       "    } else {\n",
       "      maybeLoadScript(\"vega\", \"5\")\n",
       "        .then(() => maybeLoadScript(\"vega-lite\", \"4.17.0\"))\n",
       "        .then(() => maybeLoadScript(\"vega-embed\", \"6\"))\n",
       "        .catch(showError)\n",
       "        .then(() => displayChart(vegaEmbed));\n",
       "    }\n",
       "  })({\"config\": {\"view\": {\"continuousWidth\": 400, \"continuousHeight\": 300}}, \"vconcat\": [{\"data\": {\"name\": \"data-712546f73a663e333e3a9c0dd1ef7cb4\"}, \"mark\": {\"type\": \"line\", \"point\": true}, \"encoding\": {\"color\": {\"field\": \"risk_label\", \"legend\": {\"labelFontSize\": 12, \"labelLimit\": 250, \"orient\": \"top\"}, \"scale\": {\"domain\": [\"3_High\", \"2_Medium\", \"g_Gas optimization\", \"q_QA report\", \"1_Low (unused since February 2022)\", \"0_Very low (unused since February 2022)\"], \"range\": [\"#FE266D\", \"#FA6C44\", \"#F2E713\", \"#D1D811\", \"#0AB6F8\", \"#5688C1\"]}, \"title\": \"Risk level\", \"type\": \"nominal\"}, \"tooltip\": [{\"field\": \"end_time\", \"type\": \"temporal\"}, {\"field\": \"risk_label\", \"type\": \"nominal\"}, {\"field\": \"awardUSD\", \"type\": \"quantitative\"}], \"x\": {\"field\": \"end_time\", \"title\": \"\", \"type\": \"temporal\"}, \"y\": {\"axis\": {\"format\": \"$,.0f\"}, \"field\": \"awardUSD\", \"title\": \"\", \"type\": \"quantitative\"}}, \"height\": 350, \"title\": \"Value of a submission ($USD) over time by risk level\", \"width\": 850}, {\"layer\": [{\"data\": {\"name\": \"data-98867aa9e1a9225a9e21bfd0c033690e\"}, \"mark\": {\"type\": \"line\", \"point\": true}, \"encoding\": {\"color\": {\"field\": \"risk_label\", \"legend\": {\"labelFontSize\": 12, \"labelLimit\": 250, \"orient\": \"top\"}, \"scale\": {\"domain\": [\"3_High\", \"2_Medium\", \"g_Gas optimization\", \"q_QA report\", \"1_Low (unused since February 2022)\", \"0_Very low (unused since February 2022)\"], \"range\": [\"#FE266D\", \"#FA6C44\", \"#F2E713\", \"#D1D811\", \"#0AB6F8\", \"#5688C1\"]}, \"title\": \"Risk level\", \"type\": \"nominal\"}, \"tooltip\": [{\"field\": \"end_time\", \"type\": \"temporal\"}, {\"field\": \"risk_label\", \"type\": \"nominal\"}, {\"field\": \"average_usd_per_risk\", \"type\": \"quantitative\"}], \"x\": {\"field\": \"end_time\", \"type\": \"temporal\"}, \"y\": {\"axis\": {\"format\": \"$,.0f\"}, \"field\": \"average_usd_per_risk\", \"title\": \"\", \"type\": \"quantitative\"}}, \"height\": 350, \"width\": 850}, {\"data\": {\"name\": \"data-42f7ce576b07b9c1f9731553c002b913\"}, \"mark\": {\"type\": \"line\", \"opacity\": 0.75, \"strokeDash\": [2]}, \"encoding\": {\"color\": {\"field\": \"risk_label\", \"legend\": {\"labelFontSize\": 12, \"labelLimit\": 250, \"orient\": \"top\"}, \"scale\": {\"domain\": [\"3_High\", \"2_Medium\", \"g_Gas optimization\", \"q_QA report\", \"1_Low (unused since February 2022)\", \"0_Very low (unused since February 2022)\"], \"range\": [\"#FE266D\", \"#FA6C44\", \"#F2E713\", \"#D1D811\", \"#0AB6F8\", \"#5688C1\"]}, \"title\": \"Risk level\", \"type\": \"nominal\"}, \"x\": {\"field\": \"end_time\", \"title\": \"\", \"type\": \"temporal\"}, \"y\": {\"field\": \"contest\", \"title\": \"Number of reports\", \"type\": \"quantitative\"}}, \"height\": 350, \"title\": \"Expected warden reward ($USD) and number of reports over time by risk level\", \"width\": 850}], \"resolve\": {\"scale\": {\"y\": \"independent\"}}}], \"$schema\": \"https://vega.github.io/schema/vega-lite/v4.17.0.json\", \"datasets\": {\"data-712546f73a663e333e3a9c0dd1ef7cb4\": [{\"end_time\": \"2021-02\", \"risk_label\": \"0_Very low (unused since February 2022)\", \"awardUSD\": 0.0}, {\"end_time\": \"2021-02\", \"risk_label\": \"1_Low (unused since February 2022)\", \"awardUSD\": 386.12}, {\"end_time\": \"2021-02\", \"risk_label\": \"2_Medium\", \"awardUSD\": 773.308}, {\"end_time\": \"2021-02\", \"risk_label\": \"3_High\", \"awardUSD\": 5702.88}, {\"end_time\": \"2021-02\", \"risk_label\": \"g_Gas optimization\", \"awardUSD\": 250.0}, {\"end_time\": \"2021-03\", \"risk_label\": \"0_Very low (unused since February 2022)\", \"awardUSD\": 0.0}, {\"end_time\": \"2021-03\", \"risk_label\": \"1_Low (unused since February 2022)\", \"awardUSD\": 263.2186666666667}, {\"end_time\": \"2021-03\", \"risk_label\": \"2_Medium\", \"awardUSD\": 764.2522222222223}, {\"end_time\": \"2021-03\", \"risk_label\": \"3_High\", \"awardUSD\": 1798.1021428571428}, {\"end_time\": \"2021-03\", \"risk_label\": \"g_Gas optimization\", \"awardUSD\": 400.0011111111111}, {\"end_time\": \"2021-04\", \"risk_label\": \"0_Very low (unused since February 2022)\", \"awardUSD\": 0.0}, {\"end_time\": \"2021-04\", \"risk_label\": \"1_Low (unused since February 2022)\", \"awardUSD\": 528.4941836734694}, {\"end_time\": \"2021-04\", \"risk_label\": \"2_Medium\", \"awardUSD\": 1045.8701492537314}, {\"end_time\": \"2021-04\", \"risk_label\": \"3_High\", \"awardUSD\": 1293.6434831460674}, {\"end_time\": \"2021-04\", \"risk_label\": \"g_Gas optimization\", \"awardUSD\": 146.10363636363635}, {\"end_time\": \"2021-05\", \"risk_label\": \"0_Very low (unused since February 2022)\", \"awardUSD\": 0.0}, {\"end_time\": \"2021-05\", \"risk_label\": \"1_Low (unused since February 2022)\", \"awardUSD\": 630.2809523809524}, {\"end_time\": \"2021-05\", \"risk_label\": \"2_Medium\", \"awardUSD\": 1544.8640740740739}, {\"end_time\": \"2021-05\", \"risk_label\": \"3_High\", \"awardUSD\": 3091.468113207547}, {\"end_time\": \"2021-05\", \"risk_label\": \"g_Gas optimization\", \"awardUSD\": 100.00133333333333}, {\"end_time\": \"2021-06\", \"risk_label\": \"0_Very low (unused since February 2022)\", \"awardUSD\": 0.0}, {\"end_time\": \"2021-06\", \"risk_label\": \"1_Low (unused since February 2022)\", \"awardUSD\": 478.3715625}, {\"end_time\": \"2021-06\", \"risk_label\": \"2_Medium\", \"awardUSD\": 1150.7293421052632}, {\"end_time\": \"2021-06\", \"risk_label\": \"3_High\", \"awardUSD\": 3706.452424242424}, {\"end_time\": \"2021-06\", \"risk_label\": \"g_Gas optimization\", \"awardUSD\": 189.18756756756756}, {\"end_time\": \"2021-07\", \"risk_label\": \"0_Very low (unused since February 2022)\", \"awardUSD\": 0.9216969696969698}, {\"end_time\": \"2021-07\", \"risk_label\": \"1_Low (unused since February 2022)\", \"awardUSD\": 590.8831097560976}, {\"end_time\": \"2021-07\", \"risk_label\": \"2_Medium\", \"awardUSD\": 979.4410144927535}, {\"end_time\": \"2021-07\", \"risk_label\": \"3_High\", \"awardUSD\": 2220.1816}, {\"end_time\": \"2021-07\", \"risk_label\": \"g_Gas optimization\", \"awardUSD\": 141.95089285714286}, {\"end_time\": \"2021-08\", \"risk_label\": \"0_Very low (unused since February 2022)\", \"awardUSD\": 0.0}, {\"end_time\": \"2021-08\", \"risk_label\": \"1_Low (unused since February 2022)\", \"awardUSD\": 416.8877464788732}, {\"end_time\": \"2021-08\", \"risk_label\": \"2_Medium\", \"awardUSD\": 674.0516129032258}, {\"end_time\": \"2021-08\", \"risk_label\": \"3_High\", \"awardUSD\": 4417.1125}, {\"end_time\": \"2021-08\", \"risk_label\": \"g_Gas optimization\", \"awardUSD\": 112.07}, {\"end_time\": \"2021-09\", \"risk_label\": \"0_Very low (unused since February 2022)\", \"awardUSD\": 0.0}, {\"end_time\": \"2021-09\", \"risk_label\": \"1_Low (unused since February 2022)\", \"awardUSD\": 589.1918971061093}, {\"end_time\": \"2021-09\", \"risk_label\": \"2_Medium\", \"awardUSD\": 1131.3337068965516}, {\"end_time\": \"2021-09\", \"risk_label\": \"3_High\", \"awardUSD\": 4477.579292929293}, {\"end_time\": \"2021-09\", \"risk_label\": \"g_Gas optimization\", \"awardUSD\": 140.39863157894737}, {\"end_time\": \"2021-10\", \"risk_label\": \"0_Very low (unused since February 2022)\", \"awardUSD\": 0.0}, {\"end_time\": \"2021-10\", \"risk_label\": \"1_Low (unused since February 2022)\", \"awardUSD\": 640.8443085106383}, {\"end_time\": \"2021-10\", \"risk_label\": \"2_Medium\", \"awardUSD\": 1447.6439285714284}, {\"end_time\": \"2021-10\", \"risk_label\": \"3_High\", \"awardUSD\": 3475.4078000000004}, {\"end_time\": \"2021-10\", \"risk_label\": \"g_Gas optimization\", \"awardUSD\": 121.79613698630138}, {\"end_time\": \"2021-11\", \"risk_label\": \"0_Very low (unused since February 2022)\", \"awardUSD\": 0.0}, {\"end_time\": \"2021-11\", \"risk_label\": \"1_Low (unused since February 2022)\", \"awardUSD\": 365.696254681648}, {\"end_time\": \"2021-11\", \"risk_label\": \"2_Medium\", \"awardUSD\": 791.5729545454545}, {\"end_time\": \"2021-11\", \"risk_label\": \"3_High\", \"awardUSD\": 1768.869775280899}, {\"end_time\": \"2021-11\", \"risk_label\": \"g_Gas optimization\", \"awardUSD\": 41.602218114602586}, {\"end_time\": \"2021-12\", \"risk_label\": \"0_Very low (unused since February 2022)\", \"awardUSD\": 0.0}, {\"end_time\": \"2021-12\", \"risk_label\": \"1_Low (unused since February 2022)\", \"awardUSD\": 391.9755319148936}, {\"end_time\": \"2021-12\", \"risk_label\": \"2_Medium\", \"awardUSD\": 927.33675}, {\"end_time\": \"2021-12\", \"risk_label\": \"3_High\", \"awardUSD\": 1759.9841040462427}, {\"end_time\": \"2021-12\", \"risk_label\": \"g_Gas optimization\", \"awardUSD\": 50.96804100227791}, {\"end_time\": \"2022-01\", \"risk_label\": \"0_Very low (unused since February 2022)\", \"awardUSD\": 0.0}, {\"end_time\": \"2022-01\", \"risk_label\": \"1_Low (unused since February 2022)\", \"awardUSD\": 301.79693641618496}, {\"end_time\": \"2022-01\", \"risk_label\": \"2_Medium\", \"awardUSD\": 761.1228176795581}, {\"end_time\": \"2022-01\", \"risk_label\": \"3_High\", \"awardUSD\": 1812.5133628318583}, {\"end_time\": \"2022-01\", \"risk_label\": \"g_Gas optimization\", \"awardUSD\": 25.346978131212726}, {\"end_time\": \"2022-02\", \"risk_label\": \"0_Very low (unused since February 2022)\", \"awardUSD\": 0.0}, {\"end_time\": \"2022-02\", \"risk_label\": \"1_Low (unused since February 2022)\", \"awardUSD\": 537.1391666666666}, {\"end_time\": \"2022-02\", \"risk_label\": \"2_Medium\", \"awardUSD\": 1281.1083612040134}, {\"end_time\": \"2022-02\", \"risk_label\": \"3_High\", \"awardUSD\": 1883.9445263157895}, {\"end_time\": \"2022-02\", \"risk_label\": \"g_Gas optimization\", \"awardUSD\": 94.14624390243902}, {\"end_time\": \"2022-02\", \"risk_label\": \"q_QA report\", \"awardUSD\": 376.6169154228856}, {\"end_time\": \"2022-03\", \"risk_label\": \"2_Medium\", \"awardUSD\": 1374.1068292682928}, {\"end_time\": \"2022-03\", \"risk_label\": \"3_High\", \"awardUSD\": 4481.169272727273}, {\"end_time\": \"2022-03\", \"risk_label\": \"g_Gas optimization\", \"awardUSD\": 168.35256830601094}, {\"end_time\": \"2022-03\", \"risk_label\": \"q_QA report\", \"awardUSD\": 310.7588636363636}, {\"end_time\": \"2022-04\", \"risk_label\": \"2_Medium\", \"awardUSD\": 1328.3685416666667}, {\"end_time\": \"2022-04\", \"risk_label\": \"3_High\", \"awardUSD\": 1762.9119083969465}, {\"end_time\": \"2022-04\", \"risk_label\": \"g_Gas optimization\", \"awardUSD\": 106.03437931034483}, {\"end_time\": \"2022-04\", \"risk_label\": \"q_QA report\", \"awardUSD\": 190.8280473372781}, {\"end_time\": \"2022-05\", \"risk_label\": \"2_Medium\", \"awardUSD\": 692.9050779220779}, {\"end_time\": \"2022-05\", \"risk_label\": \"3_High\", \"awardUSD\": 1284.8915422885573}, {\"end_time\": \"2022-05\", \"risk_label\": \"g_Gas optimization\", \"awardUSD\": 75.87991909385113}, {\"end_time\": \"2022-05\", \"risk_label\": \"q_QA report\", \"awardUSD\": 135.74824817518248}, {\"end_time\": \"2022-06\", \"risk_label\": \"2_Medium\", \"awardUSD\": 1491.3412853470438}, {\"end_time\": \"2022-06\", \"risk_label\": \"3_High\", \"awardUSD\": 2241.328487179487}, {\"end_time\": \"2022-06\", \"risk_label\": \"g_Gas optimization\", \"awardUSD\": 109.24690671031097}, {\"end_time\": \"2022-06\", \"risk_label\": \"q_QA report\", \"awardUSD\": 248.89586156111932}, {\"end_time\": \"2022-07\", \"risk_label\": \"2_Medium\", \"awardUSD\": 360.02705159705164}, {\"end_time\": \"2022-07\", \"risk_label\": \"3_High\", \"awardUSD\": 699.4256140350877}, {\"end_time\": \"2022-07\", \"risk_label\": \"g_Gas optimization\", \"awardUSD\": 40.723981900452486}, {\"end_time\": \"2022-07\", \"risk_label\": \"q_QA report\", \"awardUSD\": 82.00462414578587}, {\"end_time\": \"2022-08\", \"risk_label\": \"2_Medium\", \"awardUSD\": 466.19921276595744}, {\"end_time\": \"2022-08\", \"risk_label\": \"3_High\", \"awardUSD\": 534.8935398230088}, {\"end_time\": \"2022-08\", \"risk_label\": \"g_Gas optimization\", \"awardUSD\": 30.07560902255639}, {\"end_time\": \"2022-08\", \"risk_label\": \"q_QA report\", \"awardUSD\": 56.200969101123604}, {\"end_time\": \"2022-09\", \"risk_label\": \"2_Medium\", \"awardUSD\": 476.8318537414966}, {\"end_time\": \"2022-09\", \"risk_label\": \"3_High\", \"awardUSD\": 882.2513966480446}, {\"end_time\": \"2022-09\", \"risk_label\": \"g_Gas optimization\", \"awardUSD\": 39.063125}, {\"end_time\": \"2022-09\", \"risk_label\": \"q_QA report\", \"awardUSD\": 61.68692771084338}, {\"end_time\": \"2022-10\", \"risk_label\": \"2_Medium\", \"awardUSD\": 603.0880131004367}, {\"end_time\": \"2022-10\", \"risk_label\": \"3_High\", \"awardUSD\": 1342.4162280701755}, {\"end_time\": \"2022-10\", \"risk_label\": \"g_Gas optimization\", \"awardUSD\": 57.51776765375854}, {\"end_time\": \"2022-10\", \"risk_label\": \"q_QA report\", \"awardUSD\": 104.77041493775933}, {\"end_time\": \"2022-11\", \"risk_label\": \"2_Medium\", \"awardUSD\": 692.9393796526055}, {\"end_time\": \"2022-11\", \"risk_label\": \"3_High\", \"awardUSD\": 1144.873821656051}, {\"end_time\": \"2022-11\", \"risk_label\": \"g_Gas optimization\", \"awardUSD\": 173.07692307692307}, {\"end_time\": \"2022-11\", \"risk_label\": \"q_QA report\", \"awardUSD\": 200.7432342007435}], \"data-98867aa9e1a9225a9e21bfd0c033690e\": [{\"end_time\": \"2021-02\", \"risk_label\": \"0_Very low (unused since February 2022)\", \"average_usd_per_risk\": 0.0}, {\"end_time\": \"2021-02\", \"risk_label\": \"1_Low (unused since February 2022)\", \"average_usd_per_risk\": 820.5050000000001}, {\"end_time\": \"2021-02\", \"risk_label\": \"2_Medium\", \"average_usd_per_risk\": 966.635}, {\"end_time\": \"2021-02\", \"risk_label\": \"3_High\", \"average_usd_per_risk\": 712.86}, {\"end_time\": \"2021-02\", \"risk_label\": \"g_Gas optimization\", \"average_usd_per_risk\": 250.0}, {\"end_time\": \"2021-03\", \"risk_label\": \"0_Very low (unused since February 2022)\", \"average_usd_per_risk\": 0.0}, {\"end_time\": \"2021-03\", \"risk_label\": \"1_Low (unused since February 2022)\", \"average_usd_per_risk\": 493.535}, {\"end_time\": \"2021-03\", \"risk_label\": \"2_Medium\", \"average_usd_per_risk\": 859.78375}, {\"end_time\": \"2021-03\", \"risk_label\": \"3_High\", \"average_usd_per_risk\": 3146.6787499999996}, {\"end_time\": \"2021-03\", \"risk_label\": \"g_Gas optimization\", \"average_usd_per_risk\": 450.00124999999997}, {\"end_time\": \"2021-04\", \"risk_label\": \"0_Very low (unused since February 2022)\", \"average_usd_per_risk\": 0.0}, {\"end_time\": \"2021-04\", \"risk_label\": \"1_Low (unused since February 2022)\", \"average_usd_per_risk\": 1176.5860408163264}, {\"end_time\": \"2021-04\", \"risk_label\": \"2_Medium\", \"average_usd_per_risk\": 1939.1290149253732}, {\"end_time\": \"2021-04\", \"risk_label\": \"3_High\", \"average_usd_per_risk\": 8279.732157303371}, {\"end_time\": \"2021-04\", \"risk_label\": \"g_Gas optimization\", \"average_usd_per_risk\": 808.43787012987}, {\"end_time\": \"2021-05\", \"risk_label\": \"0_Very low (unused since February 2022)\", \"average_usd_per_risk\": 0.0}, {\"end_time\": \"2021-05\", \"risk_label\": \"1_Low (unused since February 2022)\", \"average_usd_per_risk\": 1630.4058585858588}, {\"end_time\": \"2021-05\", \"risk_label\": \"2_Medium\", \"average_usd_per_risk\": 1892.962864758698}, {\"end_time\": \"2021-05\", \"risk_label\": \"3_High\", \"average_usd_per_risk\": 3721.972750333524}, {\"end_time\": \"2021-05\", \"risk_label\": \"g_Gas optimization\", \"average_usd_per_risk\": 218.18472727272726}, {\"end_time\": \"2021-06\", \"risk_label\": \"0_Very low (unused since February 2022)\", \"average_usd_per_risk\": 0.0}, {\"end_time\": \"2021-06\", \"risk_label\": \"1_Low (unused since February 2022)\", \"average_usd_per_risk\": 1510.8833100818451}, {\"end_time\": \"2021-06\", \"risk_label\": \"2_Medium\", \"average_usd_per_risk\": 2028.5518937969928}, {\"end_time\": \"2021-06\", \"risk_label\": \"3_High\", \"average_usd_per_risk\": 2514.6113095238097}, {\"end_time\": \"2021-06\", \"risk_label\": \"g_Gas optimization\", \"average_usd_per_risk\": 527.0227027027028}, {\"end_time\": \"2021-07\", \"risk_label\": \"0_Very low (unused since February 2022)\", \"average_usd_per_risk\": 2.4105920745920746}, {\"end_time\": \"2021-07\", \"risk_label\": \"1_Low (unused since February 2022)\", \"average_usd_per_risk\": 1645.842188975997}, {\"end_time\": \"2021-07\", \"risk_label\": \"2_Medium\", \"average_usd_per_risk\": 1040.351571667463}, {\"end_time\": \"2021-07\", \"risk_label\": \"3_High\", \"average_usd_per_risk\": 2495.8939243467644}, {\"end_time\": \"2021-07\", \"risk_label\": \"g_Gas optimization\", \"average_usd_per_risk\": 393.73401157044015}, {\"end_time\": \"2021-08\", \"risk_label\": \"0_Very low (unused since February 2022)\", \"average_usd_per_risk\": 0.0}, {\"end_time\": \"2021-08\", \"risk_label\": \"1_Low (unused since February 2022)\", \"average_usd_per_risk\": 1057.5110710093898}, {\"end_time\": \"2021-08\", \"risk_label\": \"2_Medium\", \"average_usd_per_risk\": 640.653252688172}, {\"end_time\": \"2021-08\", \"risk_label\": \"3_High\", \"average_usd_per_risk\": 1802.358489583333}, {\"end_time\": \"2021-08\", \"risk_label\": \"g_Gas optimization\", \"average_usd_per_risk\": 237.0710344827586}, {\"end_time\": \"2021-09\", \"risk_label\": \"0_Very low (unused since February 2022)\", \"average_usd_per_risk\": 0.0}, {\"end_time\": \"2021-09\", \"risk_label\": \"1_Low (unused since February 2022)\", \"average_usd_per_risk\": 2471.4324451110206}, {\"end_time\": \"2021-09\", \"risk_label\": \"2_Medium\", \"average_usd_per_risk\": 1289.8138320400615}, {\"end_time\": \"2021-09\", \"risk_label\": \"3_High\", \"average_usd_per_risk\": 6479.1488634954385}, {\"end_time\": \"2021-09\", \"risk_label\": \"g_Gas optimization\", \"average_usd_per_risk\": 328.18967779112904}, {\"end_time\": \"2021-10\", \"risk_label\": \"0_Very low (unused since February 2022)\", \"average_usd_per_risk\": 0.0}, {\"end_time\": \"2021-10\", \"risk_label\": \"1_Low (unused since February 2022)\", \"average_usd_per_risk\": 1040.698197678115}, {\"end_time\": \"2021-10\", \"risk_label\": \"2_Medium\", \"average_usd_per_risk\": 1542.7443164676804}, {\"end_time\": \"2021-10\", \"risk_label\": \"3_High\", \"average_usd_per_risk\": 4878.48607332755}, {\"end_time\": \"2021-10\", \"risk_label\": \"g_Gas optimization\", \"average_usd_per_risk\": 339.5347269712744}, {\"end_time\": \"2021-11\", \"risk_label\": \"0_Very low (unused since February 2022)\", \"average_usd_per_risk\": 0.0}, {\"end_time\": \"2021-11\", \"risk_label\": \"1_Low (unused since February 2022)\", \"average_usd_per_risk\": 482.8151318457935}, {\"end_time\": \"2021-11\", \"risk_label\": \"2_Medium\", \"average_usd_per_risk\": 606.3344720856486}, {\"end_time\": \"2021-11\", \"risk_label\": \"3_High\", \"average_usd_per_risk\": 1399.3407524154384}, {\"end_time\": \"2021-11\", \"risk_label\": \"g_Gas optimization\", \"average_usd_per_risk\": 118.94279185153057}, {\"end_time\": \"2021-12\", \"risk_label\": \"0_Very low (unused since February 2022)\", \"average_usd_per_risk\": 0.0}, {\"end_time\": \"2021-12\", \"risk_label\": \"1_Low (unused since February 2022)\", \"average_usd_per_risk\": 571.4138387531499}, {\"end_time\": \"2021-12\", \"risk_label\": \"2_Medium\", \"average_usd_per_risk\": 781.4715701532357}, {\"end_time\": \"2021-12\", \"risk_label\": \"3_High\", \"average_usd_per_risk\": 1141.4799128815628}, {\"end_time\": \"2021-12\", \"risk_label\": \"g_Gas optimization\", \"average_usd_per_risk\": 145.20831546516948}, {\"end_time\": \"2022-01\", \"risk_label\": \"0_Very low (unused since February 2022)\", \"average_usd_per_risk\": 0.0}, {\"end_time\": \"2022-01\", \"risk_label\": \"1_Low (unused since February 2022)\", \"average_usd_per_risk\": 368.1722527891285}, {\"end_time\": \"2022-01\", \"risk_label\": \"2_Medium\", \"average_usd_per_risk\": 555.3017254498526}, {\"end_time\": \"2022-01\", \"risk_label\": \"3_High\", \"average_usd_per_risk\": 832.6816712796999}, {\"end_time\": \"2022-01\", \"risk_label\": \"g_Gas optimization\", \"average_usd_per_risk\": 110.42649265523819}, {\"end_time\": \"2022-02\", \"risk_label\": \"0_Very low (unused since February 2022)\", \"average_usd_per_risk\": 0.0}, {\"end_time\": \"2022-02\", \"risk_label\": \"1_Low (unused since February 2022)\", \"average_usd_per_risk\": 430.44420313881517}, {\"end_time\": \"2022-02\", \"risk_label\": \"2_Medium\", \"average_usd_per_risk\": 997.8554076998265}, {\"end_time\": \"2022-02\", \"risk_label\": \"3_High\", \"average_usd_per_risk\": 777.4791973023425}, {\"end_time\": \"2022-02\", \"risk_label\": \"g_Gas optimization\", \"average_usd_per_risk\": 115.82319915405806}, {\"end_time\": \"2022-02\", \"risk_label\": \"q_QA report\", \"average_usd_per_risk\": 281.48104561009006}, {\"end_time\": \"2022-03\", \"risk_label\": \"2_Medium\", \"average_usd_per_risk\": 1158.3395966603546}, {\"end_time\": \"2022-03\", \"risk_label\": \"3_High\", \"average_usd_per_risk\": 877.9660956756312}, {\"end_time\": \"2022-03\", \"risk_label\": \"g_Gas optimization\", \"average_usd_per_risk\": 103.94564732959229}, {\"end_time\": \"2022-03\", \"risk_label\": \"q_QA report\", \"average_usd_per_risk\": 226.67466981452284}, {\"end_time\": \"2022-04\", \"risk_label\": \"2_Medium\", \"average_usd_per_risk\": 604.8380214802271}, {\"end_time\": \"2022-04\", \"risk_label\": \"3_High\", \"average_usd_per_risk\": 530.3557542599982}, {\"end_time\": \"2022-04\", \"risk_label\": \"g_Gas optimization\", \"average_usd_per_risk\": 66.66631990793458}, {\"end_time\": \"2022-04\", \"risk_label\": \"q_QA report\", \"average_usd_per_risk\": 131.87429075719646}, {\"end_time\": \"2022-05\", \"risk_label\": \"2_Medium\", \"average_usd_per_risk\": 419.2155957347848}, {\"end_time\": \"2022-05\", \"risk_label\": \"3_High\", \"average_usd_per_risk\": 399.1499318911856}, {\"end_time\": \"2022-05\", \"risk_label\": \"g_Gas optimization\", \"average_usd_per_risk\": 48.87898517444097}, {\"end_time\": \"2022-05\", \"risk_label\": \"q_QA report\", \"average_usd_per_risk\": 98.94397804899786}, {\"end_time\": \"2022-06\", \"risk_label\": \"2_Medium\", \"average_usd_per_risk\": 462.225203793972}, {\"end_time\": \"2022-06\", \"risk_label\": \"3_High\", \"average_usd_per_risk\": 896.9611986750126}, {\"end_time\": \"2022-06\", \"risk_label\": \"g_Gas optimization\", \"average_usd_per_risk\": 82.31421052319982}, {\"end_time\": \"2022-06\", \"risk_label\": \"q_QA report\", \"average_usd_per_risk\": 159.39809702723443}, {\"end_time\": \"2022-07\", \"risk_label\": \"2_Medium\", \"average_usd_per_risk\": 236.36456094163395}, {\"end_time\": \"2022-07\", \"risk_label\": \"3_High\", \"average_usd_per_risk\": 309.18170768300644}, {\"end_time\": \"2022-07\", \"risk_label\": \"g_Gas optimization\", \"average_usd_per_risk\": 26.889786526365086}, {\"end_time\": \"2022-07\", \"risk_label\": \"q_QA report\", \"average_usd_per_risk\": 53.77736945900349}, {\"end_time\": \"2022-08\", \"risk_label\": \"2_Medium\", \"average_usd_per_risk\": 198.87057730590334}, {\"end_time\": \"2022-08\", \"risk_label\": \"3_High\", \"average_usd_per_risk\": 180.83892884063772}, {\"end_time\": \"2022-08\", \"risk_label\": \"g_Gas optimization\", \"average_usd_per_risk\": 20.357343491186505}, {\"end_time\": \"2022-08\", \"risk_label\": \"q_QA report\", \"average_usd_per_risk\": 41.64247528641742}, {\"end_time\": \"2022-09\", \"risk_label\": \"2_Medium\", \"average_usd_per_risk\": 235.73207327797303}, {\"end_time\": \"2022-09\", \"risk_label\": \"3_High\", \"average_usd_per_risk\": 175.15320888367364}, {\"end_time\": \"2022-09\", \"risk_label\": \"g_Gas optimization\", \"average_usd_per_risk\": 20.64013239369401}, {\"end_time\": \"2022-09\", \"risk_label\": \"q_QA report\", \"average_usd_per_risk\": 46.02843841668927}, {\"end_time\": \"2022-10\", \"risk_label\": \"2_Medium\", \"average_usd_per_risk\": 292.47127964580017}, {\"end_time\": \"2022-10\", \"risk_label\": \"3_High\", \"average_usd_per_risk\": 323.3001173064684}, {\"end_time\": \"2022-10\", \"risk_label\": \"g_Gas optimization\", \"average_usd_per_risk\": 27.267510158514146}, {\"end_time\": \"2022-10\", \"risk_label\": \"q_QA report\", \"average_usd_per_risk\": 52.603234913317216}, {\"end_time\": \"2022-11\", \"risk_label\": \"2_Medium\", \"average_usd_per_risk\": 310.74482644623544}, {\"end_time\": \"2022-11\", \"risk_label\": \"3_High\", \"average_usd_per_risk\": 492.1048898616235}, {\"end_time\": \"2022-11\", \"risk_label\": \"g_Gas optimization\", \"average_usd_per_risk\": 62.03077927674632}, {\"end_time\": \"2022-11\", \"risk_label\": \"q_QA report\", \"average_usd_per_risk\": 111.90491678141078}], \"data-42f7ce576b07b9c1f9731553c002b913\": [{\"end_time\": \"2021-02\", \"risk_label\": \"0_Very low (unused since February 2022)\", \"contest\": 6}, {\"end_time\": \"2021-02\", \"risk_label\": \"1_Low (unused since February 2022)\", \"contest\": 17}, {\"end_time\": \"2021-02\", \"risk_label\": \"2_Medium\", \"contest\": 10}, {\"end_time\": \"2021-02\", \"risk_label\": \"3_High\", \"contest\": 1}, {\"end_time\": \"2021-02\", \"risk_label\": \"g_Gas optimization\", \"contest\": 8}, {\"end_time\": \"2021-03\", \"risk_label\": \"0_Very low (unused since February 2022)\", \"contest\": 3}, {\"end_time\": \"2021-03\", \"risk_label\": \"1_Low (unused since February 2022)\", \"contest\": 15}, {\"end_time\": \"2021-03\", \"risk_label\": \"2_Medium\", \"contest\": 9}, {\"end_time\": \"2021-03\", \"risk_label\": \"3_High\", \"contest\": 14}, {\"end_time\": \"2021-03\", \"risk_label\": \"g_Gas optimization\", \"contest\": 9}, {\"end_time\": \"2021-04\", \"risk_label\": \"0_Very low (unused since February 2022)\", \"contest\": 90}, {\"end_time\": \"2021-04\", \"risk_label\": \"1_Low (unused since February 2022)\", \"contest\": 98}, {\"end_time\": \"2021-04\", \"risk_label\": \"2_Medium\", \"contest\": 67}, {\"end_time\": \"2021-04\", \"risk_label\": \"3_High\", \"contest\": 89}, {\"end_time\": \"2021-04\", \"risk_label\": \"g_Gas optimization\", \"contest\": 154}, {\"end_time\": \"2021-05\", \"risk_label\": \"0_Very low (unused since February 2022)\", \"contest\": 71}, {\"end_time\": \"2021-05\", \"risk_label\": \"1_Low (unused since February 2022)\", \"contest\": 105}, {\"end_time\": \"2021-05\", \"risk_label\": \"2_Medium\", \"contest\": 54}, {\"end_time\": \"2021-05\", \"risk_label\": \"3_High\", \"contest\": 53}, {\"end_time\": \"2021-05\", \"risk_label\": \"g_Gas optimization\", \"contest\": 60}, {\"end_time\": \"2021-06\", \"risk_label\": \"0_Very low (unused since February 2022)\", \"contest\": 76}, {\"end_time\": \"2021-06\", \"risk_label\": \"1_Low (unused since February 2022)\", \"contest\": 128}, {\"end_time\": \"2021-06\", \"risk_label\": \"2_Medium\", \"contest\": 76}, {\"end_time\": \"2021-06\", \"risk_label\": \"3_High\", \"contest\": 33}, {\"end_time\": \"2021-06\", \"risk_label\": \"g_Gas optimization\", \"contest\": 74}, {\"end_time\": \"2021-07\", \"risk_label\": \"0_Very low (unused since February 2022)\", \"contest\": 165}, {\"end_time\": \"2021-07\", \"risk_label\": \"1_Low (unused since February 2022)\", \"contest\": 164}, {\"end_time\": \"2021-07\", \"risk_label\": \"2_Medium\", \"contest\": 69}, {\"end_time\": \"2021-07\", \"risk_label\": \"3_High\", \"contest\": 75}, {\"end_time\": \"2021-07\", \"risk_label\": \"g_Gas optimization\", \"contest\": 168}, {\"end_time\": \"2021-08\", \"risk_label\": \"0_Very low (unused since February 2022)\", \"contest\": 54}, {\"end_time\": \"2021-08\", \"risk_label\": \"1_Low (unused since February 2022)\", \"contest\": 71}, {\"end_time\": \"2021-08\", \"risk_label\": \"2_Medium\", \"contest\": 31}, {\"end_time\": \"2021-08\", \"risk_label\": \"3_High\", \"contest\": 12}, {\"end_time\": \"2021-08\", \"risk_label\": \"g_Gas optimization\", \"contest\": 58}, {\"end_time\": \"2021-09\", \"risk_label\": \"0_Very low (unused since February 2022)\", \"contest\": 268}, {\"end_time\": \"2021-09\", \"risk_label\": \"1_Low (unused since February 2022)\", \"contest\": 311}, {\"end_time\": \"2021-09\", \"risk_label\": \"2_Medium\", \"contest\": 116}, {\"end_time\": \"2021-09\", \"risk_label\": \"3_High\", \"contest\": 99}, {\"end_time\": \"2021-09\", \"risk_label\": \"g_Gas optimization\", \"contest\": 285}, {\"end_time\": \"2021-10\", \"risk_label\": \"0_Very low (unused since February 2022)\", \"contest\": 187}, {\"end_time\": \"2021-10\", \"risk_label\": \"1_Low (unused since February 2022)\", \"contest\": 188}, {\"end_time\": \"2021-10\", \"risk_label\": \"2_Medium\", \"contest\": 112}, {\"end_time\": \"2021-10\", \"risk_label\": \"3_High\", \"contest\": 100}, {\"end_time\": \"2021-10\", \"risk_label\": \"g_Gas optimization\", \"contest\": 365}, {\"end_time\": \"2021-11\", \"risk_label\": \"0_Very low (unused since February 2022)\", \"contest\": 272}, {\"end_time\": \"2021-11\", \"risk_label\": \"1_Low (unused since February 2022)\", \"contest\": 267}, {\"end_time\": \"2021-11\", \"risk_label\": \"2_Medium\", \"contest\": 132}, {\"end_time\": \"2021-11\", \"risk_label\": \"3_High\", \"contest\": 89}, {\"end_time\": \"2021-11\", \"risk_label\": \"g_Gas optimization\", \"contest\": 541}, {\"end_time\": \"2021-12\", \"risk_label\": \"0_Very low (unused since February 2022)\", \"contest\": 305}, {\"end_time\": \"2021-12\", \"risk_label\": \"1_Low (unused since February 2022)\", \"contest\": 423}, {\"end_time\": \"2021-12\", \"risk_label\": \"2_Medium\", \"contest\": 200}, {\"end_time\": \"2021-12\", \"risk_label\": \"3_High\", \"contest\": 173}, {\"end_time\": \"2021-12\", \"risk_label\": \"g_Gas optimization\", \"contest\": 878}, {\"end_time\": \"2022-01\", \"risk_label\": \"0_Very low (unused since February 2022)\", \"contest\": 258}, {\"end_time\": \"2022-01\", \"risk_label\": \"1_Low (unused since February 2022)\", \"contest\": 346}, {\"end_time\": \"2022-01\", \"risk_label\": \"2_Medium\", \"contest\": 181}, {\"end_time\": \"2022-01\", \"risk_label\": \"3_High\", \"contest\": 113}, {\"end_time\": \"2022-01\", \"risk_label\": \"g_Gas optimization\", \"contest\": 1006}, {\"end_time\": \"2022-02\", \"risk_label\": \"0_Very low (unused since February 2022)\", \"contest\": 89}, {\"end_time\": \"2022-02\", \"risk_label\": \"1_Low (unused since February 2022)\", \"contest\": 72}, {\"end_time\": \"2022-02\", \"risk_label\": \"2_Medium\", \"contest\": 299}, {\"end_time\": \"2022-02\", \"risk_label\": \"3_High\", \"contest\": 95}, {\"end_time\": \"2022-02\", \"risk_label\": \"g_Gas optimization\", \"contest\": 410}, {\"end_time\": \"2022-02\", \"risk_label\": \"q_QA report\", \"contest\": 201}, {\"end_time\": \"2022-03\", \"risk_label\": \"2_Medium\", \"contest\": 246}, {\"end_time\": \"2022-03\", \"risk_label\": \"3_High\", \"contest\": 55}, {\"end_time\": \"2022-03\", \"risk_label\": \"g_Gas optimization\", \"contest\": 183}, {\"end_time\": \"2022-03\", \"risk_label\": \"q_QA report\", \"contest\": 220}, {\"end_time\": \"2022-04\", \"risk_label\": \"2_Medium\", \"contest\": 240}, {\"end_time\": \"2022-04\", \"risk_label\": \"3_High\", \"contest\": 131}, {\"end_time\": \"2022-04\", \"risk_label\": \"g_Gas optimization\", \"contest\": 290}, {\"end_time\": \"2022-04\", \"risk_label\": \"q_QA report\", \"contest\": 338}, {\"end_time\": \"2022-05\", \"risk_label\": \"2_Medium\", \"contest\": 770}, {\"end_time\": \"2022-05\", \"risk_label\": \"3_High\", \"contest\": 201}, {\"end_time\": \"2022-05\", \"risk_label\": \"g_Gas optimization\", \"contest\": 618}, {\"end_time\": \"2022-05\", \"risk_label\": \"q_QA report\", \"contest\": 685}, {\"end_time\": \"2022-06\", \"risk_label\": \"2_Medium\", \"contest\": 389}, {\"end_time\": \"2022-06\", \"risk_label\": \"3_High\", \"contest\": 390}, {\"end_time\": \"2022-06\", \"risk_label\": \"g_Gas optimization\", \"contest\": 611}, {\"end_time\": \"2022-06\", \"risk_label\": \"q_QA report\", \"contest\": 679}, {\"end_time\": \"2022-07\", \"risk_label\": \"2_Medium\", \"contest\": 407}, {\"end_time\": \"2022-07\", \"risk_label\": \"3_High\", \"contest\": 228}, {\"end_time\": \"2022-07\", \"risk_label\": \"g_Gas optimization\", \"contest\": 442}, {\"end_time\": \"2022-07\", \"risk_label\": \"q_QA report\", \"contest\": 439}, {\"end_time\": \"2022-08\", \"risk_label\": \"2_Medium\", \"contest\": 470}, {\"end_time\": \"2022-08\", \"risk_label\": \"3_High\", \"contest\": 226}, {\"end_time\": \"2022-08\", \"risk_label\": \"g_Gas optimization\", \"contest\": 665}, {\"end_time\": \"2022-08\", \"risk_label\": \"q_QA report\", \"contest\": 712}, {\"end_time\": \"2022-09\", \"risk_label\": \"2_Medium\", \"contest\": 588}, {\"end_time\": \"2022-09\", \"risk_label\": \"3_High\", \"contest\": 179}, {\"end_time\": \"2022-09\", \"risk_label\": \"g_Gas optimization\", \"contest\": 576}, {\"end_time\": \"2022-09\", \"risk_label\": \"q_QA report\", \"contest\": 830}, {\"end_time\": \"2022-10\", \"risk_label\": \"2_Medium\", \"contest\": 458}, {\"end_time\": \"2022-10\", \"risk_label\": \"3_High\", \"contest\": 114}, {\"end_time\": \"2022-10\", \"risk_label\": \"g_Gas optimization\", \"contest\": 439}, {\"end_time\": \"2022-10\", \"risk_label\": \"q_QA report\", \"contest\": 482}, {\"end_time\": \"2022-11\", \"risk_label\": \"2_Medium\", \"contest\": 403}, {\"end_time\": \"2022-11\", \"risk_label\": \"3_High\", \"contest\": 157}, {\"end_time\": \"2022-11\", \"risk_label\": \"g_Gas optimization\", \"contest\": 156}, {\"end_time\": \"2022-11\", \"risk_label\": \"q_QA report\", \"contest\": 269}]}}, {\"mode\": \"vega-lite\"});\n",
       "</script>"
      ],
      "text/plain": [
       "alt.VConcatChart(...)"
      ]
     },
     "execution_count": 13,
     "metadata": {},
     "output_type": "execute_result"
    }
   ],
   "source": [
    "rewards & (weighted_rewards + submissions).resolve_scale(y='independent')"
   ]
  },
  {
   "cell_type": "code",
   "execution_count": null,
   "id": "f656ebbe",
   "metadata": {},
   "outputs": [],
   "source": []
  }
 ],
 "metadata": {
  "kernelspec": {
   "display_name": "Python 3 (ipykernel)",
   "language": "python",
   "name": "python3"
  },
  "language_info": {
   "codemirror_mode": {
    "name": "ipython",
    "version": 3
   },
   "file_extension": ".py",
   "mimetype": "text/x-python",
   "name": "python",
   "nbconvert_exporter": "python",
   "pygments_lexer": "ipython3",
   "version": "3.11.1"
  }
 },
 "nbformat": 4,
 "nbformat_minor": 5
}
