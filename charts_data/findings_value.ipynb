{
 "cells": [
  {
   "cell_type": "code",
   "execution_count": 1,
   "id": "b0ba6704",
   "metadata": {},
   "outputs": [
    {
     "data": {
      "text/plain": [
       "DataTransformerRegistry.enable('default')"
      ]
     },
     "execution_count": 1,
     "metadata": {},
     "output_type": "execute_result"
    }
   ],
   "source": [
    "import pandas as pd\n",
    "import altair as alt\n",
    "alt.data_transformers.disable_max_rows() # Disable 5_000 rows limit"
   ]
  },
  {
   "cell_type": "code",
   "execution_count": 2,
   "id": "93c05a5d",
   "metadata": {},
   "outputs": [],
   "source": [
    "findings_data = pd.read_csv(\"https://raw.githubusercontent.com/code-423n4/code423n4.com/main/_data/findings/findings.csv\") # Set path accordingly\n",
    "findings_data[\"contestid\"] = findings_data[\"contest\"]\n",
    "contests_data = pd.read_csv(\"https://raw.githubusercontent.com/code-423n4/code423n4.com/main/_data/contests/contests.csv\")"
   ]
  },
  {
   "cell_type": "code",
   "execution_count": 3,
   "id": "367026f2",
   "metadata": {},
   "outputs": [],
   "source": [
    "df = pd.merge(findings_data, contests_data[[\"contestid\", \"end_time\"]], on=\"contestid\").drop_duplicates()\n",
    "df[\"end_time\"] = pd.to_datetime(df[\"end_time\"])\n",
    "df[\"risk_label\"] = df[\"risk\"].map(\n",
    "    {\n",
    "        '0': '0_Very low (unused since February 2022)', \n",
    "        '1': '1_Low (unused since February 2022)',\n",
    "        '2': '2_Medium',\n",
    "        '3': '3_High',\n",
    "        'g': 'g_Gas optimization',\n",
    "        'q': 'q_QA report',\n",
    "    }\n",
    ")"
   ]
  },
  {
   "cell_type": "code",
   "execution_count": 4,
   "id": "fef6221f",
   "metadata": {},
   "outputs": [],
   "source": [
    "ordered_legend_reports_labels = [\n",
    "    '3_High',\n",
    "    '2_Medium',\n",
    "    'g_Gas optimization',\n",
    "    'q_QA report',\n",
    "    '1_Low (unused since February 2022)',\n",
    "    '0_Very low (unused since February 2022)', \n",
    "]\n",
    "label_colors = [\"#FE266D\",\"#FA6C44\",\"#F2E713\",\"#D1D811\",\"#0AB6F8\",\"#5688C1\"]\n",
    "chart_width = 850\n",
    "chart_height = 350"
   ]
  },
  {
   "cell_type": "code",
   "execution_count": 5,
   "id": "dcc160a5",
   "metadata": {},
   "outputs": [
    {
     "data": {
      "text/html": [
       "\n",
       "<div id=\"altair-viz-0e184574ae9542248332bdf47f8c8efb\"></div>\n",
       "<script type=\"text/javascript\">\n",
       "  var VEGA_DEBUG = (typeof VEGA_DEBUG == \"undefined\") ? {} : VEGA_DEBUG;\n",
       "  (function(spec, embedOpt){\n",
       "    let outputDiv = document.currentScript.previousElementSibling;\n",
       "    if (outputDiv.id !== \"altair-viz-0e184574ae9542248332bdf47f8c8efb\") {\n",
       "      outputDiv = document.getElementById(\"altair-viz-0e184574ae9542248332bdf47f8c8efb\");\n",
       "    }\n",
       "    const paths = {\n",
       "      \"vega\": \"https://cdn.jsdelivr.net/npm//vega@5?noext\",\n",
       "      \"vega-lib\": \"https://cdn.jsdelivr.net/npm//vega-lib?noext\",\n",
       "      \"vega-lite\": \"https://cdn.jsdelivr.net/npm//vega-lite@4.17.0?noext\",\n",
       "      \"vega-embed\": \"https://cdn.jsdelivr.net/npm//vega-embed@6?noext\",\n",
       "    };\n",
       "\n",
       "    function maybeLoadScript(lib, version) {\n",
       "      var key = `${lib.replace(\"-\", \"\")}_version`;\n",
       "      return (VEGA_DEBUG[key] == version) ?\n",
       "        Promise.resolve(paths[lib]) :\n",
       "        new Promise(function(resolve, reject) {\n",
       "          var s = document.createElement('script');\n",
       "          document.getElementsByTagName(\"head\")[0].appendChild(s);\n",
       "          s.async = true;\n",
       "          s.onload = () => {\n",
       "            VEGA_DEBUG[key] = version;\n",
       "            return resolve(paths[lib]);\n",
       "          };\n",
       "          s.onerror = () => reject(`Error loading script: ${paths[lib]}`);\n",
       "          s.src = paths[lib];\n",
       "        });\n",
       "    }\n",
       "\n",
       "    function showError(err) {\n",
       "      outputDiv.innerHTML = `<div class=\"error\" style=\"color:red;\">${err}</div>`;\n",
       "      throw err;\n",
       "    }\n",
       "\n",
       "    function displayChart(vegaEmbed) {\n",
       "      vegaEmbed(outputDiv, spec, embedOpt)\n",
       "        .catch(err => showError(`Javascript Error: ${err.message}<br>This usually means there's a typo in your chart specification. See the javascript console for the full traceback.`));\n",
       "    }\n",
       "\n",
       "    if(typeof define === \"function\" && define.amd) {\n",
       "      requirejs.config({paths});\n",
       "      require([\"vega-embed\"], displayChart, err => showError(`Error loading script: ${err.message}`));\n",
       "    } else {\n",
       "      maybeLoadScript(\"vega\", \"5\")\n",
       "        .then(() => maybeLoadScript(\"vega-lite\", \"4.17.0\"))\n",
       "        .then(() => maybeLoadScript(\"vega-embed\", \"6\"))\n",
       "        .catch(showError)\n",
       "        .then(() => displayChart(vegaEmbed));\n",
       "    }\n",
       "  })({\"config\": {\"view\": {\"continuousWidth\": 400, \"continuousHeight\": 300}}, \"data\": {\"name\": \"data-8e2ae089e1079a3050ba88376c2ad40d\"}, \"mark\": \"bar\", \"encoding\": {\"color\": {\"field\": \"risk_label\", \"legend\": {\"labelFontSize\": 12, \"labelLimit\": 250, \"orient\": \"top\"}, \"scale\": {\"domain\": [\"3_High\", \"2_Medium\", \"g_Gas optimization\", \"q_QA report\", \"1_Low (unused since February 2022)\"], \"range\": [\"#FE266D\", \"#FA6C44\", \"#F2E713\", \"#D1D811\", \"#0AB6F8\"]}, \"title\": \"Risk level\", \"type\": \"nominal\"}, \"column\": {\"field\": \"risk_label\", \"sort\": [\"3_High\", \"2_Medium\", \"g_Gas optimization\", \"q_QA report\", \"1_Low (unused since February 2022)\"], \"title\": \"\", \"type\": \"nominal\"}, \"tooltip\": [{\"field\": \"risk_label\", \"type\": \"nominal\"}, {\"field\": \"split\", \"type\": \"ordinal\"}, {\"field\": \"awardUSD\", \"type\": \"quantitative\"}], \"x\": {\"field\": \"split\", \"title\": \"Number of wardens sharing a finding\", \"type\": \"ordinal\"}, \"y\": {\"axis\": {\"format\": \"$,.0f\"}, \"field\": \"awardUSD\", \"title\": \"Finding $USD value\", \"type\": \"quantitative\"}}, \"resolve\": {\"axis\": {\"x\": \"independent\"}, \"scale\": {\"y\": \"independent\"}}, \"title\": \"Findings' value distribution according to number of shared submissions by risk level\", \"transform\": [{\"filter\": \"(datum.risk_label !== '0_Very low (unused since February 2022)')\"}], \"width\": 400, \"$schema\": \"https://vega.github.io/schema/vega-lite/v4.17.0.json\", \"datasets\": {\"data-8e2ae089e1079a3050ba88376c2ad40d\": [{\"risk_label\": \"0_Very low (unused since February 2022)\", \"split\": 0, \"awardUSD\": 0.0}, {\"risk_label\": \"0_Very low (unused since February 2022)\", \"split\": 1, \"awardUSD\": 0.0}, {\"risk_label\": \"0_Very low (unused since February 2022)\", \"split\": 2, \"awardUSD\": 0.0}, {\"risk_label\": \"0_Very low (unused since February 2022)\", \"split\": 3, \"awardUSD\": 0.0}, {\"risk_label\": \"0_Very low (unused since February 2022)\", \"split\": 4, \"awardUSD\": 0.0}, {\"risk_label\": \"0_Very low (unused since February 2022)\", \"split\": 5, \"awardUSD\": 0.0}, {\"risk_label\": \"0_Very low (unused since February 2022)\", \"split\": 6, \"awardUSD\": 0.0}, {\"risk_label\": \"0_Very low (unused since February 2022)\", \"split\": 7, \"awardUSD\": 0.0}, {\"risk_label\": \"0_Very low (unused since February 2022)\", \"split\": 8, \"awardUSD\": 0.0}, {\"risk_label\": \"0_Very low (unused since February 2022)\", \"split\": 9, \"awardUSD\": 0.0}, {\"risk_label\": \"0_Very low (unused since February 2022)\", \"split\": 10, \"awardUSD\": 0.0}, {\"risk_label\": \"1_Low (unused since February 2022)\", \"split\": 1, \"awardUSD\": 567.13}, {\"risk_label\": \"1_Low (unused since February 2022)\", \"split\": 2, \"awardUSD\": 263.32}, {\"risk_label\": \"1_Low (unused since February 2022)\", \"split\": 3, \"awardUSD\": 178.91}, {\"risk_label\": \"1_Low (unused since February 2022)\", \"split\": 4, \"awardUSD\": 106.91}, {\"risk_label\": \"1_Low (unused since February 2022)\", \"split\": 5, \"awardUSD\": 74.53}, {\"risk_label\": \"1_Low (unused since February 2022)\", \"split\": 6, \"awardUSD\": 43.64}, {\"risk_label\": \"1_Low (unused since February 2022)\", \"split\": 7, \"awardUSD\": 65.79}, {\"risk_label\": \"1_Low (unused since February 2022)\", \"split\": 8, \"awardUSD\": 39.605000000000004}, {\"risk_label\": \"1_Low (unused since February 2022)\", \"split\": 9, \"awardUSD\": 37.37}, {\"risk_label\": \"1_Low (unused since February 2022)\", \"split\": 10, \"awardUSD\": 34.535}, {\"risk_label\": \"1_Low (unused since February 2022)\", \"split\": 12, \"awardUSD\": 15.44}, {\"risk_label\": \"1_Low (unused since February 2022)\", \"split\": 13, \"awardUSD\": 15.184999999999999}, {\"risk_label\": \"2_Medium\", \"split\": 1, \"awardUSD\": 1759.51}, {\"risk_label\": \"2_Medium\", \"split\": 2, \"awardUSD\": 922.0799999999999}, {\"risk_label\": \"2_Medium\", \"split\": 3, \"awardUSD\": 545.79}, {\"risk_label\": \"2_Medium\", \"split\": 4, \"awardUSD\": 338.385}, {\"risk_label\": \"2_Medium\", \"split\": 5, \"awardUSD\": 310.0}, {\"risk_label\": \"2_Medium\", \"split\": 6, \"awardUSD\": 202.95499999999998}, {\"risk_label\": \"2_Medium\", \"split\": 7, \"awardUSD\": 152.83}, {\"risk_label\": \"2_Medium\", \"split\": 8, \"awardUSD\": 121.92999999999999}, {\"risk_label\": \"2_Medium\", \"split\": 9, \"awardUSD\": 99.26}, {\"risk_label\": \"2_Medium\", \"split\": 10, \"awardUSD\": 80.545}, {\"risk_label\": \"2_Medium\", \"split\": 11, \"awardUSD\": 337.44000000000005}, {\"risk_label\": \"2_Medium\", \"split\": 12, \"awardUSD\": 69.12}, {\"risk_label\": \"2_Medium\", \"split\": 13, \"awardUSD\": 184.25}, {\"risk_label\": \"2_Medium\", \"split\": 14, \"awardUSD\": 30.965}, {\"risk_label\": \"2_Medium\", \"split\": 15, \"awardUSD\": 47.03}, {\"risk_label\": \"2_Medium\", \"split\": 16, \"awardUSD\": 50.71}, {\"risk_label\": \"2_Medium\", \"split\": 17, \"awardUSD\": 20.615000000000002}, {\"risk_label\": \"2_Medium\", \"split\": 18, \"awardUSD\": 19.939999999999998}, {\"risk_label\": \"2_Medium\", \"split\": 20, \"awardUSD\": 7.97}, {\"risk_label\": \"2_Medium\", \"split\": 21, \"awardUSD\": 7.8}, {\"risk_label\": \"2_Medium\", \"split\": 22, \"awardUSD\": 16.97}, {\"risk_label\": \"2_Medium\", \"split\": 23, \"awardUSD\": 48.59}, {\"risk_label\": \"2_Medium\", \"split\": 24, \"awardUSD\": 4.96}, {\"risk_label\": \"2_Medium\", \"split\": 25, \"awardUSD\": 10.89}, {\"risk_label\": \"2_Medium\", \"split\": 27, \"awardUSD\": 6.845}, {\"risk_label\": \"2_Medium\", \"split\": 28, \"awardUSD\": 1.85}, {\"risk_label\": \"2_Medium\", \"split\": 29, \"awardUSD\": 3.18}, {\"risk_label\": \"2_Medium\", \"split\": 33, \"awardUSD\": 1.4}, {\"risk_label\": \"2_Medium\", \"split\": 35, \"awardUSD\": 3.41}, {\"risk_label\": \"2_Medium\", \"split\": 50, \"awardUSD\": 0.1}, {\"risk_label\": \"3_High\", \"split\": 0, \"awardUSD\": 0.0}, {\"risk_label\": \"3_High\", \"split\": 1, \"awardUSD\": 4340.53}, {\"risk_label\": \"3_High\", \"split\": 2, \"awardUSD\": 2264.56}, {\"risk_label\": \"3_High\", \"split\": 3, \"awardUSD\": 1103.26}, {\"risk_label\": \"3_High\", \"split\": 4, \"awardUSD\": 791.06}, {\"risk_label\": \"3_High\", \"split\": 5, \"awardUSD\": 619.64}, {\"risk_label\": \"3_High\", \"split\": 6, \"awardUSD\": 440.68}, {\"risk_label\": \"3_High\", \"split\": 7, \"awardUSD\": 361.005}, {\"risk_label\": \"3_High\", \"split\": 8, \"awardUSD\": 267.71}, {\"risk_label\": \"3_High\", \"split\": 9, \"awardUSD\": 293.89}, {\"risk_label\": \"3_High\", \"split\": 10, \"awardUSD\": 126.34}, {\"risk_label\": \"3_High\", \"split\": 11, \"awardUSD\": 165.63}, {\"risk_label\": \"3_High\", \"split\": 12, \"awardUSD\": 98.91}, {\"risk_label\": \"3_High\", \"split\": 13, \"awardUSD\": 82.17}, {\"risk_label\": \"3_High\", \"split\": 14, \"awardUSD\": 84.1}, {\"risk_label\": \"3_High\", \"split\": 15, \"awardUSD\": 90.06}, {\"risk_label\": \"3_High\", \"split\": 17, \"awardUSD\": 63.93}, {\"risk_label\": \"3_High\", \"split\": 18, \"awardUSD\": 41.49}, {\"risk_label\": \"3_High\", \"split\": 19, \"awardUSD\": 30.475}, {\"risk_label\": \"3_High\", \"split\": 27, \"awardUSD\": 11.08}, {\"risk_label\": \"3_High\", \"split\": 32, \"awardUSD\": 14.84}, {\"risk_label\": \"3_High\", \"split\": 33, \"awardUSD\": 14.87}, {\"risk_label\": \"g_Gas optimization\", \"split\": 1, \"awardUSD\": 81.64}, {\"risk_label\": \"g_Gas optimization\", \"split\": 2, \"awardUSD\": 37.99}, {\"risk_label\": \"g_Gas optimization\", \"split\": 3, \"awardUSD\": 26.35}, {\"risk_label\": \"g_Gas optimization\", \"split\": 4, \"awardUSD\": 18.67}, {\"risk_label\": \"g_Gas optimization\", \"split\": 5, \"awardUSD\": 21.205}, {\"risk_label\": \"g_Gas optimization\", \"split\": 6, \"awardUSD\": 10.595}, {\"risk_label\": \"g_Gas optimization\", \"split\": 7, \"awardUSD\": 15.45}, {\"risk_label\": \"g_Gas optimization\", \"split\": 8, \"awardUSD\": 11.87}, {\"risk_label\": \"g_Gas optimization\", \"split\": 9, \"awardUSD\": 8.37}, {\"risk_label\": \"g_Gas optimization\", \"split\": 10, \"awardUSD\": 14.120000000000001}, {\"risk_label\": \"g_Gas optimization\", \"split\": 11, \"awardUSD\": 47.515}, {\"risk_label\": \"g_Gas optimization\", \"split\": 12, \"awardUSD\": 44.09}, {\"risk_label\": \"g_Gas optimization\", \"split\": 13, \"awardUSD\": 12.885}, {\"risk_label\": \"g_Gas optimization\", \"split\": 14, \"awardUSD\": 26.71}, {\"risk_label\": \"g_Gas optimization\", \"split\": 15, \"awardUSD\": 79.01}, {\"risk_label\": \"g_Gas optimization\", \"split\": 17, \"awardUSD\": 45.705}, {\"risk_label\": \"g_Gas optimization\", \"split\": 18, \"awardUSD\": 30.0}, {\"risk_label\": \"g_Gas optimization\", \"split\": 19, \"awardUSD\": 38.24}, {\"risk_label\": \"g_Gas optimization\", \"split\": 20, \"awardUSD\": 15.45}, {\"risk_label\": \"g_Gas optimization\", \"split\": 21, \"awardUSD\": 57.93}, {\"risk_label\": \"g_Gas optimization\", \"split\": 22, \"awardUSD\": 15.49}, {\"risk_label\": \"g_Gas optimization\", \"split\": 26, \"awardUSD\": 62.46}, {\"risk_label\": \"q_QA report\", \"split\": 1, \"awardUSD\": 119.53}, {\"risk_label\": \"q_QA report\", \"split\": 2, \"awardUSD\": 75.27000000000001}, {\"risk_label\": \"q_QA report\", \"split\": 3, \"awardUSD\": 100.045}, {\"risk_label\": \"q_QA report\", \"split\": 4, \"awardUSD\": 101.23}, {\"risk_label\": \"q_QA report\", \"split\": 5, \"awardUSD\": 90.63499999999999}, {\"risk_label\": \"q_QA report\", \"split\": 6, \"awardUSD\": 90.78999999999999}, {\"risk_label\": \"q_QA report\", \"split\": 7, \"awardUSD\": 63.89}, {\"risk_label\": \"q_QA report\", \"split\": 8, \"awardUSD\": 93.285}, {\"risk_label\": \"q_QA report\", \"split\": 9, \"awardUSD\": 73.84}, {\"risk_label\": \"q_QA report\", \"split\": 10, \"awardUSD\": 47.14}, {\"risk_label\": \"q_QA report\", \"split\": 11, \"awardUSD\": 87.69999999999999}, {\"risk_label\": \"q_QA report\", \"split\": 12, \"awardUSD\": 119.82}, {\"risk_label\": \"q_QA report\", \"split\": 13, \"awardUSD\": 142.32}, {\"risk_label\": \"q_QA report\", \"split\": 15, \"awardUSD\": 149.87}, {\"risk_label\": \"q_QA report\", \"split\": 16, \"awardUSD\": 60.325}, {\"risk_label\": \"q_QA report\", \"split\": 17, \"awardUSD\": 119.535}, {\"risk_label\": \"q_QA report\", \"split\": 18, \"awardUSD\": 53.16}, {\"risk_label\": \"q_QA report\", \"split\": 19, \"awardUSD\": 90.28999999999999}, {\"risk_label\": \"q_QA report\", \"split\": 20, \"awardUSD\": 30.28}, {\"risk_label\": \"q_QA report\", \"split\": 27, \"awardUSD\": 89.27}, {\"risk_label\": \"q_QA report\", \"split\": 28, \"awardUSD\": 63.94}]}}, {\"mode\": \"vega-lite\"});\n",
       "</script>"
      ],
      "text/plain": [
       "alt.Chart(...)"
      ]
     },
     "execution_count": 5,
     "metadata": {},
     "output_type": "execute_result"
    }
   ],
   "source": [
    "alt.Chart(df.groupby([\"risk_label\", \"split\"])[\"awardUSD\"].median().reset_index(),\n",
    "          width=400,\n",
    "          title=\"Findings' value distribution according to number of shared submissions by risk level\"\n",
    ").transform_filter(\n",
    "    alt.datum.risk_label != \"0_Very low (unused since February 2022)\"\n",
    ").mark_bar().encode(\n",
    "    x=alt.X(\"split:O\", title=\"Number of wardens sharing a finding\"),\n",
    "    y=alt.Y(\"awardUSD:Q\", title=\"Finding $USD value\", axis=alt.Axis(format='$,.0f')),\n",
    "    color=alt.Color(\n",
    "        'risk_label:N', \n",
    "        title=\"Risk level\",\n",
    "        scale=alt.Scale(domain=ordered_legend_reports_labels[:-1], range=label_colors[:-1]),\n",
    "        legend=alt.Legend(orient=\"top\", labelFontSize=12, labelLimit=250),\n",
    "    ),\n",
    "    column=alt.Column(\"risk_label:N\", sort=ordered_legend_reports_labels[:-1], title=\"\"),\n",
    "    tooltip=[\"risk_label:N\", \"split:O\", \"awardUSD:Q\"]\n",
    ").resolve_scale(\n",
    "    y='independent'\n",
    ").resolve_axis(\n",
    "    x='independent'\n",
    ")"
   ]
  },
  {
   "cell_type": "code",
   "execution_count": 6,
   "id": "4f58c408",
   "metadata": {},
   "outputs": [
    {
     "name": "stderr",
     "output_type": "stream",
     "text": [
      "C:\\Python38\\lib\\site-packages\\pandas\\core\\arrays\\datetimes.py:1162: UserWarning: Converting to PeriodArray/Index representation will drop timezone information.\n",
      "  warnings.warn(\n"
     ]
    }
   ],
   "source": [
    "rewards = alt.Chart(\n",
    "    df.groupby([df.end_time.dt.to_period(\"M\"), \"risk_label\"])[\"awardUSD\"].mean().reset_index().astype({\"end_time\": str}), \n",
    "    width=chart_width, \n",
    "    height=chart_height,\n",
    "    title=\"Value of a submission ($USD) over time by risk level\"\n",
    ").mark_line(\n",
    "    point=True\n",
    ").encode(\n",
    "    x=alt.X('end_time:T', title=\"\"),\n",
    "    y=alt.Y('awardUSD:Q', title=\"\", axis=alt.Axis(format='$,.0f')),\n",
    "    color=alt.Color(\n",
    "        'risk_label:N', \n",
    "        title=\"Risk level\",\n",
    "        scale=alt.Scale(domain=ordered_legend_reports_labels, range=label_colors),\n",
    "        legend=alt.Legend(orient=\"top\", labelFontSize=12, labelLimit=250)\n",
    "    ),\n",
    "    tooltip=['end_time:T', 'risk_label:N', 'awardUSD:Q']\n",
    ")"
   ]
  },
  {
   "cell_type": "code",
   "execution_count": 7,
   "id": "00e3d4df",
   "metadata": {},
   "outputs": [
    {
     "name": "stderr",
     "output_type": "stream",
     "text": [
      "C:\\Python38\\lib\\site-packages\\pandas\\core\\arrays\\datetimes.py:1162: UserWarning: Converting to PeriodArray/Index representation will drop timezone information.\n",
      "  warnings.warn(\n"
     ]
    }
   ],
   "source": [
    "submissions = alt.Chart(\n",
    "    df.groupby([df.end_time.dt.to_period(\"M\"), \"risk_label\"])[\"contest\"].count().reset_index().astype({\"end_time\": str}),\n",
    "    width=chart_width,\n",
    "    height=chart_height,\n",
    "    title=\"Expected warden reward ($USD) and number of reports over time by risk level\",\n",
    ").mark_line(\n",
    "    opacity=.75,\n",
    "    strokeDash=[2]\n",
    ").encode(\n",
    "    x=alt.X('end_time:T', title=\"\"),\n",
    "    y=alt.Y('contest:Q', title=\"Number of reports\"),\n",
    "    color=alt.Color(\n",
    "        'risk_label:N', \n",
    "        title=\"Risk level\",\n",
    "        scale=alt.Scale(domain=ordered_legend_reports_labels, range=label_colors),\n",
    "        legend=alt.Legend(orient=\"top\", labelFontSize=12, labelLimit=250),\n",
    "    ),\n",
    ")"
   ]
  },
  {
   "cell_type": "markdown",
   "id": "d24ecb56",
   "metadata": {},
   "source": [
    "## Expected warden reward calculation\n",
    "\n",
    "1. For each contest, take the total number of submissions for each risk level and divide it by the number of participants. This gives a value *X* that corresponds to **the average number of submission for each risk level by a single warden**.\n",
    "2. Now take the mean reward value for each contest and risk level and multiply that by *X*. This gives a value *Y* that corresponds to **the expected warden reward according the average number of submission**.\n",
    "3. Group the contests by their ending date (month/year) and take the mean of the *Y*s. This gives **the expected warden reward per month for each risk level** which is what is plotted in the second chart. "
   ]
  },
  {
   "cell_type": "code",
   "execution_count": 8,
   "id": "6ac41ead",
   "metadata": {},
   "outputs": [],
   "source": [
    "df2 = pd.merge(df.groupby([\"contest\", \"end_time\", \"risk\"])[[\"finding\"]].count().reset_index(), df.groupby(\"contest\")[\"handle\"].nunique(), on=\"contest\")"
   ]
  },
  {
   "cell_type": "code",
   "execution_count": 9,
   "id": "d2c6cfbb",
   "metadata": {},
   "outputs": [],
   "source": [
    "df2[\"average_findings\"] = df2.finding / df2.handle\n",
    "df2[\"end_time\"] = pd.to_datetime(df2[\"end_time\"])"
   ]
  },
  {
   "cell_type": "code",
   "execution_count": 10,
   "id": "e02c1140",
   "metadata": {},
   "outputs": [],
   "source": [
    "df3 = pd.merge(df, df2[[\"contest\", \"average_findings\", \"risk\"]], on=[\"contest\", \"risk\"])"
   ]
  },
  {
   "cell_type": "code",
   "execution_count": 11,
   "id": "4f72dea6",
   "metadata": {},
   "outputs": [
    {
     "data": {
      "text/html": [
       "<div>\n",
       "<style scoped>\n",
       "    .dataframe tbody tr th:only-of-type {\n",
       "        vertical-align: middle;\n",
       "    }\n",
       "\n",
       "    .dataframe tbody tr th {\n",
       "        vertical-align: top;\n",
       "    }\n",
       "\n",
       "    .dataframe thead th {\n",
       "        text-align: right;\n",
       "    }\n",
       "</style>\n",
       "<table border=\"1\" class=\"dataframe\">\n",
       "  <thead>\n",
       "    <tr style=\"text-align: right;\">\n",
       "      <th></th>\n",
       "      <th>end_time</th>\n",
       "      <th>contest</th>\n",
       "      <th>average_findings</th>\n",
       "      <th>risk</th>\n",
       "      <th>risk_label</th>\n",
       "      <th>awardUSD</th>\n",
       "      <th>average_usd_per_risk</th>\n",
       "    </tr>\n",
       "  </thead>\n",
       "  <tbody>\n",
       "    <tr>\n",
       "      <th>0</th>\n",
       "      <td>2021-02-22 23:59:00+00:00</td>\n",
       "      <td>1</td>\n",
       "      <td>0.125000</td>\n",
       "      <td>3</td>\n",
       "      <td>3_High</td>\n",
       "      <td>5702.88</td>\n",
       "      <td>712.860000</td>\n",
       "    </tr>\n",
       "    <tr>\n",
       "      <th>1</th>\n",
       "      <td>2021-02-22 23:59:00+00:00</td>\n",
       "      <td>1</td>\n",
       "      <td>2.125000</td>\n",
       "      <td>1</td>\n",
       "      <td>1_Low (unused since February 2022)</td>\n",
       "      <td>153.98</td>\n",
       "      <td>327.207500</td>\n",
       "    </tr>\n",
       "    <tr>\n",
       "      <th>2</th>\n",
       "      <td>2021-02-22 23:59:00+00:00</td>\n",
       "      <td>1</td>\n",
       "      <td>2.125000</td>\n",
       "      <td>1</td>\n",
       "      <td>1_Low (unused since February 2022)</td>\n",
       "      <td>256.63</td>\n",
       "      <td>545.338750</td>\n",
       "    </tr>\n",
       "    <tr>\n",
       "      <th>3</th>\n",
       "      <td>2021-02-22 23:59:00+00:00</td>\n",
       "      <td>1</td>\n",
       "      <td>2.125000</td>\n",
       "      <td>1</td>\n",
       "      <td>1_Low (unused since February 2022)</td>\n",
       "      <td>256.63</td>\n",
       "      <td>545.338750</td>\n",
       "    </tr>\n",
       "    <tr>\n",
       "      <th>4</th>\n",
       "      <td>2021-02-22 23:59:00+00:00</td>\n",
       "      <td>1</td>\n",
       "      <td>2.125000</td>\n",
       "      <td>1</td>\n",
       "      <td>1_Low (unused since February 2022)</td>\n",
       "      <td>570.29</td>\n",
       "      <td>1211.866250</td>\n",
       "    </tr>\n",
       "    <tr>\n",
       "      <th>...</th>\n",
       "      <td>...</td>\n",
       "      <td>...</td>\n",
       "      <td>...</td>\n",
       "      <td>...</td>\n",
       "      <td>...</td>\n",
       "      <td>...</td>\n",
       "      <td>...</td>\n",
       "    </tr>\n",
       "    <tr>\n",
       "      <th>18115</th>\n",
       "      <td>2022-07-15 20:00:00+00:00</td>\n",
       "      <td>135</td>\n",
       "      <td>0.564103</td>\n",
       "      <td>g</td>\n",
       "      <td>g_Gas optimization</td>\n",
       "      <td>26.08</td>\n",
       "      <td>14.711795</td>\n",
       "    </tr>\n",
       "    <tr>\n",
       "      <th>18116</th>\n",
       "      <td>2022-07-15 20:00:00+00:00</td>\n",
       "      <td>135</td>\n",
       "      <td>0.564103</td>\n",
       "      <td>g</td>\n",
       "      <td>g_Gas optimization</td>\n",
       "      <td>30.57</td>\n",
       "      <td>17.244615</td>\n",
       "    </tr>\n",
       "    <tr>\n",
       "      <th>18117</th>\n",
       "      <td>2022-07-15 20:00:00+00:00</td>\n",
       "      <td>135</td>\n",
       "      <td>0.564103</td>\n",
       "      <td>g</td>\n",
       "      <td>g_Gas optimization</td>\n",
       "      <td>33.75</td>\n",
       "      <td>19.038462</td>\n",
       "    </tr>\n",
       "    <tr>\n",
       "      <th>18118</th>\n",
       "      <td>2022-07-15 20:00:00+00:00</td>\n",
       "      <td>135</td>\n",
       "      <td>0.564103</td>\n",
       "      <td>g</td>\n",
       "      <td>g_Gas optimization</td>\n",
       "      <td>102.64</td>\n",
       "      <td>57.899487</td>\n",
       "    </tr>\n",
       "    <tr>\n",
       "      <th>18119</th>\n",
       "      <td>2022-07-15 20:00:00+00:00</td>\n",
       "      <td>135</td>\n",
       "      <td>0.564103</td>\n",
       "      <td>g</td>\n",
       "      <td>g_Gas optimization</td>\n",
       "      <td>150.95</td>\n",
       "      <td>85.151282</td>\n",
       "    </tr>\n",
       "  </tbody>\n",
       "</table>\n",
       "<p>18120 rows × 7 columns</p>\n",
       "</div>"
      ],
      "text/plain": [
       "                       end_time  contest  average_findings risk  \\\n",
       "0     2021-02-22 23:59:00+00:00        1          0.125000    3   \n",
       "1     2021-02-22 23:59:00+00:00        1          2.125000    1   \n",
       "2     2021-02-22 23:59:00+00:00        1          2.125000    1   \n",
       "3     2021-02-22 23:59:00+00:00        1          2.125000    1   \n",
       "4     2021-02-22 23:59:00+00:00        1          2.125000    1   \n",
       "...                         ...      ...               ...  ...   \n",
       "18115 2022-07-15 20:00:00+00:00      135          0.564103    g   \n",
       "18116 2022-07-15 20:00:00+00:00      135          0.564103    g   \n",
       "18117 2022-07-15 20:00:00+00:00      135          0.564103    g   \n",
       "18118 2022-07-15 20:00:00+00:00      135          0.564103    g   \n",
       "18119 2022-07-15 20:00:00+00:00      135          0.564103    g   \n",
       "\n",
       "                               risk_label  awardUSD  average_usd_per_risk  \n",
       "0                                  3_High   5702.88            712.860000  \n",
       "1      1_Low (unused since February 2022)    153.98            327.207500  \n",
       "2      1_Low (unused since February 2022)    256.63            545.338750  \n",
       "3      1_Low (unused since February 2022)    256.63            545.338750  \n",
       "4      1_Low (unused since February 2022)    570.29           1211.866250  \n",
       "...                                   ...       ...                   ...  \n",
       "18115                  g_Gas optimization     26.08             14.711795  \n",
       "18116                  g_Gas optimization     30.57             17.244615  \n",
       "18117                  g_Gas optimization     33.75             19.038462  \n",
       "18118                  g_Gas optimization    102.64             57.899487  \n",
       "18119                  g_Gas optimization    150.95             85.151282  \n",
       "\n",
       "[18120 rows x 7 columns]"
      ]
     },
     "execution_count": 11,
     "metadata": {},
     "output_type": "execute_result"
    }
   ],
   "source": [
    "df3[\"average_usd_per_risk\"] = df3.average_findings * df3.awardUSD\n",
    "df3[[\"end_time\", \"contest\", \"average_findings\", \"risk\", \"risk_label\", \"awardUSD\", \"average_usd_per_risk\"]]"
   ]
  },
  {
   "cell_type": "code",
   "execution_count": 12,
   "id": "cf084fd1",
   "metadata": {},
   "outputs": [
    {
     "name": "stderr",
     "output_type": "stream",
     "text": [
      "C:\\Python38\\lib\\site-packages\\pandas\\core\\arrays\\datetimes.py:1162: UserWarning: Converting to PeriodArray/Index representation will drop timezone information.\n",
      "  warnings.warn(\n"
     ]
    }
   ],
   "source": [
    "weighted_rewards = alt.Chart(df3.groupby([df3.end_time.dt.to_period(\"M\"), \"risk_label\"])[\"average_usd_per_risk\"].mean().reset_index().astype({\"end_time\": str}),\n",
    "          width=chart_width,\n",
    "          height=chart_height\n",
    ").mark_line(point=True).encode(\n",
    "    x='end_time:T',\n",
    "    y=alt.Y('average_usd_per_risk:Q', title=\"\", axis=alt.Axis(format='$,.0f')),\n",
    "    color=alt.Color(\n",
    "        'risk_label:N', \n",
    "        title=\"Risk level\",\n",
    "        scale=alt.Scale(domain=ordered_legend_reports_labels, range=label_colors),\n",
    "        legend=alt.Legend(orient=\"top\", labelFontSize=12, labelLimit=250)\n",
    "    ),\n",
    "    tooltip=['end_time:T', 'risk_label:N', 'average_usd_per_risk:Q']\n",
    ")"
   ]
  },
  {
   "cell_type": "markdown",
   "id": "829b6a79",
   "metadata": {},
   "source": [
    "## Analysis\n",
    "\n",
    "While the hierarchy for a submission value is well respected over time (as shown in the first graph), the expected value tells another story about which category is more worth in the eyes of wardens. With the amount of reports increasing, the expected reward for each category tends to uniformize and it's not clear which of the *mediums* or *highs* findings are more worth than the other.\n",
    "\n",
    "Certainly, the though competiton of recent contests has made the value of *high* and *medium* findings diminish which is not particularly a good sign since their edging closer the values of easier and potentially automated *gas optimization* and *QA reports*."
   ]
  },
  {
   "cell_type": "code",
   "execution_count": 13,
   "id": "8501b54c",
   "metadata": {
    "scrolled": false
   },
   "outputs": [
    {
     "data": {
      "text/html": [
       "\n",
       "<div id=\"altair-viz-73ba2755be0e487ca7ebe43560902f99\"></div>\n",
       "<script type=\"text/javascript\">\n",
       "  var VEGA_DEBUG = (typeof VEGA_DEBUG == \"undefined\") ? {} : VEGA_DEBUG;\n",
       "  (function(spec, embedOpt){\n",
       "    let outputDiv = document.currentScript.previousElementSibling;\n",
       "    if (outputDiv.id !== \"altair-viz-73ba2755be0e487ca7ebe43560902f99\") {\n",
       "      outputDiv = document.getElementById(\"altair-viz-73ba2755be0e487ca7ebe43560902f99\");\n",
       "    }\n",
       "    const paths = {\n",
       "      \"vega\": \"https://cdn.jsdelivr.net/npm//vega@5?noext\",\n",
       "      \"vega-lib\": \"https://cdn.jsdelivr.net/npm//vega-lib?noext\",\n",
       "      \"vega-lite\": \"https://cdn.jsdelivr.net/npm//vega-lite@4.17.0?noext\",\n",
       "      \"vega-embed\": \"https://cdn.jsdelivr.net/npm//vega-embed@6?noext\",\n",
       "    };\n",
       "\n",
       "    function maybeLoadScript(lib, version) {\n",
       "      var key = `${lib.replace(\"-\", \"\")}_version`;\n",
       "      return (VEGA_DEBUG[key] == version) ?\n",
       "        Promise.resolve(paths[lib]) :\n",
       "        new Promise(function(resolve, reject) {\n",
       "          var s = document.createElement('script');\n",
       "          document.getElementsByTagName(\"head\")[0].appendChild(s);\n",
       "          s.async = true;\n",
       "          s.onload = () => {\n",
       "            VEGA_DEBUG[key] = version;\n",
       "            return resolve(paths[lib]);\n",
       "          };\n",
       "          s.onerror = () => reject(`Error loading script: ${paths[lib]}`);\n",
       "          s.src = paths[lib];\n",
       "        });\n",
       "    }\n",
       "\n",
       "    function showError(err) {\n",
       "      outputDiv.innerHTML = `<div class=\"error\" style=\"color:red;\">${err}</div>`;\n",
       "      throw err;\n",
       "    }\n",
       "\n",
       "    function displayChart(vegaEmbed) {\n",
       "      vegaEmbed(outputDiv, spec, embedOpt)\n",
       "        .catch(err => showError(`Javascript Error: ${err.message}<br>This usually means there's a typo in your chart specification. See the javascript console for the full traceback.`));\n",
       "    }\n",
       "\n",
       "    if(typeof define === \"function\" && define.amd) {\n",
       "      requirejs.config({paths});\n",
       "      require([\"vega-embed\"], displayChart, err => showError(`Error loading script: ${err.message}`));\n",
       "    } else {\n",
       "      maybeLoadScript(\"vega\", \"5\")\n",
       "        .then(() => maybeLoadScript(\"vega-lite\", \"4.17.0\"))\n",
       "        .then(() => maybeLoadScript(\"vega-embed\", \"6\"))\n",
       "        .catch(showError)\n",
       "        .then(() => displayChart(vegaEmbed));\n",
       "    }\n",
       "  })({\"config\": {\"view\": {\"continuousWidth\": 400, \"continuousHeight\": 300}}, \"vconcat\": [{\"data\": {\"name\": \"data-ee67bb6f26e8237878dedb7e8c982152\"}, \"mark\": {\"type\": \"line\", \"point\": true}, \"encoding\": {\"color\": {\"field\": \"risk_label\", \"legend\": {\"labelFontSize\": 12, \"labelLimit\": 250, \"orient\": \"top\"}, \"scale\": {\"domain\": [\"3_High\", \"2_Medium\", \"g_Gas optimization\", \"q_QA report\", \"1_Low (unused since February 2022)\", \"0_Very low (unused since February 2022)\"], \"range\": [\"#FE266D\", \"#FA6C44\", \"#F2E713\", \"#D1D811\", \"#0AB6F8\", \"#5688C1\"]}, \"title\": \"Risk level\", \"type\": \"nominal\"}, \"tooltip\": [{\"field\": \"end_time\", \"type\": \"temporal\"}, {\"field\": \"risk_label\", \"type\": \"nominal\"}, {\"field\": \"awardUSD\", \"type\": \"quantitative\"}], \"x\": {\"field\": \"end_time\", \"title\": \"\", \"type\": \"temporal\"}, \"y\": {\"axis\": {\"format\": \"$,.0f\"}, \"field\": \"awardUSD\", \"title\": \"\", \"type\": \"quantitative\"}}, \"height\": 350, \"title\": \"Value of a submission ($USD) over time by risk level\", \"width\": 850}, {\"layer\": [{\"data\": {\"name\": \"data-2294972a88f54a24610f27b800ffae13\"}, \"mark\": {\"type\": \"line\", \"point\": true}, \"encoding\": {\"color\": {\"field\": \"risk_label\", \"legend\": {\"labelFontSize\": 12, \"labelLimit\": 250, \"orient\": \"top\"}, \"scale\": {\"domain\": [\"3_High\", \"2_Medium\", \"g_Gas optimization\", \"q_QA report\", \"1_Low (unused since February 2022)\", \"0_Very low (unused since February 2022)\"], \"range\": [\"#FE266D\", \"#FA6C44\", \"#F2E713\", \"#D1D811\", \"#0AB6F8\", \"#5688C1\"]}, \"title\": \"Risk level\", \"type\": \"nominal\"}, \"tooltip\": [{\"field\": \"end_time\", \"type\": \"temporal\"}, {\"field\": \"risk_label\", \"type\": \"nominal\"}, {\"field\": \"average_usd_per_risk\", \"type\": \"quantitative\"}], \"x\": {\"field\": \"end_time\", \"type\": \"temporal\"}, \"y\": {\"axis\": {\"format\": \"$,.0f\"}, \"field\": \"average_usd_per_risk\", \"title\": \"\", \"type\": \"quantitative\"}}, \"height\": 350, \"width\": 850}, {\"data\": {\"name\": \"data-59124c1e8dd85da0b0d80c4c7dff89b3\"}, \"mark\": {\"type\": \"line\", \"opacity\": 0.75, \"strokeDash\": [2]}, \"encoding\": {\"color\": {\"field\": \"risk_label\", \"legend\": {\"labelFontSize\": 12, \"labelLimit\": 250, \"orient\": \"top\"}, \"scale\": {\"domain\": [\"3_High\", \"2_Medium\", \"g_Gas optimization\", \"q_QA report\", \"1_Low (unused since February 2022)\", \"0_Very low (unused since February 2022)\"], \"range\": [\"#FE266D\", \"#FA6C44\", \"#F2E713\", \"#D1D811\", \"#0AB6F8\", \"#5688C1\"]}, \"title\": \"Risk level\", \"type\": \"nominal\"}, \"x\": {\"field\": \"end_time\", \"title\": \"\", \"type\": \"temporal\"}, \"y\": {\"field\": \"contest\", \"title\": \"Number of reports\", \"type\": \"quantitative\"}}, \"height\": 350, \"title\": \"Expected warden reward ($USD) and number of reports over time by risk level\", \"width\": 850}], \"resolve\": {\"scale\": {\"y\": \"independent\"}}}], \"$schema\": \"https://vega.github.io/schema/vega-lite/v4.17.0.json\", \"datasets\": {\"data-ee67bb6f26e8237878dedb7e8c982152\": [{\"end_time\": \"2021-02\", \"risk_label\": \"0_Very low (unused since February 2022)\", \"awardUSD\": 0.0}, {\"end_time\": \"2021-02\", \"risk_label\": \"1_Low (unused since February 2022)\", \"awardUSD\": 386.12}, {\"end_time\": \"2021-02\", \"risk_label\": \"2_Medium\", \"awardUSD\": 773.308}, {\"end_time\": \"2021-02\", \"risk_label\": \"3_High\", \"awardUSD\": 5702.88}, {\"end_time\": \"2021-02\", \"risk_label\": \"g_Gas optimization\", \"awardUSD\": 250.0}, {\"end_time\": \"2021-03\", \"risk_label\": \"0_Very low (unused since February 2022)\", \"awardUSD\": 0.0}, {\"end_time\": \"2021-03\", \"risk_label\": \"1_Low (unused since February 2022)\", \"awardUSD\": 263.2186666666667}, {\"end_time\": \"2021-03\", \"risk_label\": \"2_Medium\", \"awardUSD\": 764.2522222222223}, {\"end_time\": \"2021-03\", \"risk_label\": \"3_High\", \"awardUSD\": 1798.1021428571428}, {\"end_time\": \"2021-03\", \"risk_label\": \"g_Gas optimization\", \"awardUSD\": 400.0011111111111}, {\"end_time\": \"2021-04\", \"risk_label\": \"0_Very low (unused since February 2022)\", \"awardUSD\": 0.0}, {\"end_time\": \"2021-04\", \"risk_label\": \"1_Low (unused since February 2022)\", \"awardUSD\": 528.4941836734694}, {\"end_time\": \"2021-04\", \"risk_label\": \"2_Medium\", \"awardUSD\": 1045.8701492537314}, {\"end_time\": \"2021-04\", \"risk_label\": \"3_High\", \"awardUSD\": 1293.6434831460674}, {\"end_time\": \"2021-04\", \"risk_label\": \"g_Gas optimization\", \"awardUSD\": 146.10363636363635}, {\"end_time\": \"2021-05\", \"risk_label\": \"0_Very low (unused since February 2022)\", \"awardUSD\": 0.0}, {\"end_time\": \"2021-05\", \"risk_label\": \"1_Low (unused since February 2022)\", \"awardUSD\": 630.2809523809524}, {\"end_time\": \"2021-05\", \"risk_label\": \"2_Medium\", \"awardUSD\": 1544.8640740740739}, {\"end_time\": \"2021-05\", \"risk_label\": \"3_High\", \"awardUSD\": 3091.468113207547}, {\"end_time\": \"2021-05\", \"risk_label\": \"g_Gas optimization\", \"awardUSD\": 100.00133333333333}, {\"end_time\": \"2021-06\", \"risk_label\": \"0_Very low (unused since February 2022)\", \"awardUSD\": 0.0}, {\"end_time\": \"2021-06\", \"risk_label\": \"1_Low (unused since February 2022)\", \"awardUSD\": 478.3715625}, {\"end_time\": \"2021-06\", \"risk_label\": \"2_Medium\", \"awardUSD\": 1150.7293421052632}, {\"end_time\": \"2021-06\", \"risk_label\": \"3_High\", \"awardUSD\": 3706.452424242424}, {\"end_time\": \"2021-06\", \"risk_label\": \"g_Gas optimization\", \"awardUSD\": 189.18756756756756}, {\"end_time\": \"2021-07\", \"risk_label\": \"0_Very low (unused since February 2022)\", \"awardUSD\": 0.9216969696969698}, {\"end_time\": \"2021-07\", \"risk_label\": \"1_Low (unused since February 2022)\", \"awardUSD\": 590.8831097560976}, {\"end_time\": \"2021-07\", \"risk_label\": \"2_Medium\", \"awardUSD\": 979.4410144927535}, {\"end_time\": \"2021-07\", \"risk_label\": \"3_High\", \"awardUSD\": 2220.1816}, {\"end_time\": \"2021-07\", \"risk_label\": \"g_Gas optimization\", \"awardUSD\": 141.95089285714286}, {\"end_time\": \"2021-08\", \"risk_label\": \"0_Very low (unused since February 2022)\", \"awardUSD\": 0.0}, {\"end_time\": \"2021-08\", \"risk_label\": \"1_Low (unused since February 2022)\", \"awardUSD\": 416.8877464788732}, {\"end_time\": \"2021-08\", \"risk_label\": \"2_Medium\", \"awardUSD\": 674.0516129032258}, {\"end_time\": \"2021-08\", \"risk_label\": \"3_High\", \"awardUSD\": 4417.1125}, {\"end_time\": \"2021-08\", \"risk_label\": \"g_Gas optimization\", \"awardUSD\": 112.07}, {\"end_time\": \"2021-09\", \"risk_label\": \"0_Very low (unused since February 2022)\", \"awardUSD\": 0.0}, {\"end_time\": \"2021-09\", \"risk_label\": \"1_Low (unused since February 2022)\", \"awardUSD\": 589.1918971061093}, {\"end_time\": \"2021-09\", \"risk_label\": \"2_Medium\", \"awardUSD\": 1131.3337068965516}, {\"end_time\": \"2021-09\", \"risk_label\": \"3_High\", \"awardUSD\": 4477.579292929293}, {\"end_time\": \"2021-09\", \"risk_label\": \"g_Gas optimization\", \"awardUSD\": 140.39863157894737}, {\"end_time\": \"2021-10\", \"risk_label\": \"0_Very low (unused since February 2022)\", \"awardUSD\": 0.0}, {\"end_time\": \"2021-10\", \"risk_label\": \"1_Low (unused since February 2022)\", \"awardUSD\": 640.8443085106383}, {\"end_time\": \"2021-10\", \"risk_label\": \"2_Medium\", \"awardUSD\": 1447.6439285714284}, {\"end_time\": \"2021-10\", \"risk_label\": \"3_High\", \"awardUSD\": 3475.4078000000004}, {\"end_time\": \"2021-10\", \"risk_label\": \"g_Gas optimization\", \"awardUSD\": 121.79613698630138}, {\"end_time\": \"2021-11\", \"risk_label\": \"0_Very low (unused since February 2022)\", \"awardUSD\": 0.0}, {\"end_time\": \"2021-11\", \"risk_label\": \"1_Low (unused since February 2022)\", \"awardUSD\": 365.696254681648}, {\"end_time\": \"2021-11\", \"risk_label\": \"2_Medium\", \"awardUSD\": 791.5729545454545}, {\"end_time\": \"2021-11\", \"risk_label\": \"3_High\", \"awardUSD\": 1768.869775280899}, {\"end_time\": \"2021-11\", \"risk_label\": \"g_Gas optimization\", \"awardUSD\": 41.602218114602586}, {\"end_time\": \"2021-12\", \"risk_label\": \"0_Very low (unused since February 2022)\", \"awardUSD\": 0.0}, {\"end_time\": \"2021-12\", \"risk_label\": \"1_Low (unused since February 2022)\", \"awardUSD\": 391.9755319148936}, {\"end_time\": \"2021-12\", \"risk_label\": \"2_Medium\", \"awardUSD\": 927.33675}, {\"end_time\": \"2021-12\", \"risk_label\": \"3_High\", \"awardUSD\": 1759.9841040462427}, {\"end_time\": \"2021-12\", \"risk_label\": \"g_Gas optimization\", \"awardUSD\": 50.96804100227791}, {\"end_time\": \"2022-01\", \"risk_label\": \"0_Very low (unused since February 2022)\", \"awardUSD\": 0.0}, {\"end_time\": \"2022-01\", \"risk_label\": \"1_Low (unused since February 2022)\", \"awardUSD\": 301.79693641618496}, {\"end_time\": \"2022-01\", \"risk_label\": \"2_Medium\", \"awardUSD\": 761.1228176795581}, {\"end_time\": \"2022-01\", \"risk_label\": \"3_High\", \"awardUSD\": 1812.5133628318583}, {\"end_time\": \"2022-01\", \"risk_label\": \"g_Gas optimization\", \"awardUSD\": 25.346978131212726}, {\"end_time\": \"2022-02\", \"risk_label\": \"0_Very low (unused since February 2022)\", \"awardUSD\": 0.0}, {\"end_time\": \"2022-02\", \"risk_label\": \"1_Low (unused since February 2022)\", \"awardUSD\": 537.1391666666666}, {\"end_time\": \"2022-02\", \"risk_label\": \"2_Medium\", \"awardUSD\": 1281.1083612040134}, {\"end_time\": \"2022-02\", \"risk_label\": \"3_High\", \"awardUSD\": 1883.9445263157895}, {\"end_time\": \"2022-02\", \"risk_label\": \"g_Gas optimization\", \"awardUSD\": 94.14624390243902}, {\"end_time\": \"2022-02\", \"risk_label\": \"q_QA report\", \"awardUSD\": 376.6169154228856}, {\"end_time\": \"2022-03\", \"risk_label\": \"2_Medium\", \"awardUSD\": 1201.1930131004367}, {\"end_time\": \"2022-03\", \"risk_label\": \"3_High\", \"awardUSD\": 3797.587254901961}, {\"end_time\": \"2022-03\", \"risk_label\": \"g_Gas optimization\", \"awardUSD\": 137.14302857142857}, {\"end_time\": \"2022-03\", \"risk_label\": \"q_QA report\", \"awardUSD\": 264.4924154589372}, {\"end_time\": \"2022-04\", \"risk_label\": \"2_Medium\", \"awardUSD\": 1328.3685416666667}, {\"end_time\": \"2022-04\", \"risk_label\": \"3_High\", \"awardUSD\": 1762.9119083969465}, {\"end_time\": \"2022-04\", \"risk_label\": \"g_Gas optimization\", \"awardUSD\": 106.03437931034483}, {\"end_time\": \"2022-04\", \"risk_label\": \"q_QA report\", \"awardUSD\": 190.8280473372781}, {\"end_time\": \"2022-05\", \"risk_label\": \"2_Medium\", \"awardUSD\": 692.9050779220779}, {\"end_time\": \"2022-05\", \"risk_label\": \"3_High\", \"awardUSD\": 1284.8915422885573}, {\"end_time\": \"2022-05\", \"risk_label\": \"g_Gas optimization\", \"awardUSD\": 75.87991909385113}, {\"end_time\": \"2022-05\", \"risk_label\": \"q_QA report\", \"awardUSD\": 135.74824817518248}, {\"end_time\": \"2022-06\", \"risk_label\": \"2_Medium\", \"awardUSD\": 1533.5837196765501}, {\"end_time\": \"2022-06\", \"risk_label\": \"3_High\", \"awardUSD\": 2633.7195625}, {\"end_time\": \"2022-06\", \"risk_label\": \"g_Gas optimization\", \"awardUSD\": 112.3251048951049}, {\"end_time\": \"2022-06\", \"risk_label\": \"q_QA report\", \"awardUSD\": 258.6756151419558}, {\"end_time\": \"2022-07\", \"risk_label\": \"2_Medium\", \"awardUSD\": 320.4533913043478}, {\"end_time\": \"2022-07\", \"risk_label\": \"3_High\", \"awardUSD\": 604.0992201834863}, {\"end_time\": \"2022-07\", \"risk_label\": \"g_Gas optimization\", \"awardUSD\": 38.306397849462364}, {\"end_time\": \"2022-07\", \"risk_label\": \"q_QA report\", \"awardUSD\": 77.44595108695653}, {\"end_time\": \"2022-08\", \"risk_label\": \"2_Medium\", \"awardUSD\": 533.5496202531646}, {\"end_time\": \"2022-08\", \"risk_label\": \"3_High\", \"awardUSD\": 738.783275862069}, {\"end_time\": \"2022-08\", \"risk_label\": \"g_Gas optimization\", \"awardUSD\": 38.16694656488549}, {\"end_time\": \"2022-08\", \"risk_label\": \"q_QA report\", \"awardUSD\": 67.11422818791947}], \"data-2294972a88f54a24610f27b800ffae13\": [{\"end_time\": \"2021-02\", \"risk_label\": \"0_Very low (unused since February 2022)\", \"average_usd_per_risk\": 0.0}, {\"end_time\": \"2021-02\", \"risk_label\": \"1_Low (unused since February 2022)\", \"average_usd_per_risk\": 820.5050000000001}, {\"end_time\": \"2021-02\", \"risk_label\": \"2_Medium\", \"average_usd_per_risk\": 966.635}, {\"end_time\": \"2021-02\", \"risk_label\": \"3_High\", \"average_usd_per_risk\": 712.86}, {\"end_time\": \"2021-02\", \"risk_label\": \"g_Gas optimization\", \"average_usd_per_risk\": 250.0}, {\"end_time\": \"2021-03\", \"risk_label\": \"0_Very low (unused since February 2022)\", \"average_usd_per_risk\": 0.0}, {\"end_time\": \"2021-03\", \"risk_label\": \"1_Low (unused since February 2022)\", \"average_usd_per_risk\": 493.535}, {\"end_time\": \"2021-03\", \"risk_label\": \"2_Medium\", \"average_usd_per_risk\": 859.78375}, {\"end_time\": \"2021-03\", \"risk_label\": \"3_High\", \"average_usd_per_risk\": 3146.6787499999996}, {\"end_time\": \"2021-03\", \"risk_label\": \"g_Gas optimization\", \"average_usd_per_risk\": 450.00124999999997}, {\"end_time\": \"2021-04\", \"risk_label\": \"0_Very low (unused since February 2022)\", \"average_usd_per_risk\": 0.0}, {\"end_time\": \"2021-04\", \"risk_label\": \"1_Low (unused since February 2022)\", \"average_usd_per_risk\": 1176.5860408163264}, {\"end_time\": \"2021-04\", \"risk_label\": \"2_Medium\", \"average_usd_per_risk\": 1939.1290149253732}, {\"end_time\": \"2021-04\", \"risk_label\": \"3_High\", \"average_usd_per_risk\": 8279.732157303371}, {\"end_time\": \"2021-04\", \"risk_label\": \"g_Gas optimization\", \"average_usd_per_risk\": 808.43787012987}, {\"end_time\": \"2021-05\", \"risk_label\": \"0_Very low (unused since February 2022)\", \"average_usd_per_risk\": 0.0}, {\"end_time\": \"2021-05\", \"risk_label\": \"1_Low (unused since February 2022)\", \"average_usd_per_risk\": 1630.4058585858588}, {\"end_time\": \"2021-05\", \"risk_label\": \"2_Medium\", \"average_usd_per_risk\": 1892.962864758698}, {\"end_time\": \"2021-05\", \"risk_label\": \"3_High\", \"average_usd_per_risk\": 3721.972750333524}, {\"end_time\": \"2021-05\", \"risk_label\": \"g_Gas optimization\", \"average_usd_per_risk\": 218.18472727272726}, {\"end_time\": \"2021-06\", \"risk_label\": \"0_Very low (unused since February 2022)\", \"average_usd_per_risk\": 0.0}, {\"end_time\": \"2021-06\", \"risk_label\": \"1_Low (unused since February 2022)\", \"average_usd_per_risk\": 1510.8833100818451}, {\"end_time\": \"2021-06\", \"risk_label\": \"2_Medium\", \"average_usd_per_risk\": 2028.5518937969928}, {\"end_time\": \"2021-06\", \"risk_label\": \"3_High\", \"average_usd_per_risk\": 2514.6113095238097}, {\"end_time\": \"2021-06\", \"risk_label\": \"g_Gas optimization\", \"average_usd_per_risk\": 527.0227027027028}, {\"end_time\": \"2021-07\", \"risk_label\": \"0_Very low (unused since February 2022)\", \"average_usd_per_risk\": 2.4105920745920746}, {\"end_time\": \"2021-07\", \"risk_label\": \"1_Low (unused since February 2022)\", \"average_usd_per_risk\": 1645.842188975997}, {\"end_time\": \"2021-07\", \"risk_label\": \"2_Medium\", \"average_usd_per_risk\": 1040.351571667463}, {\"end_time\": \"2021-07\", \"risk_label\": \"3_High\", \"average_usd_per_risk\": 2495.8939243467644}, {\"end_time\": \"2021-07\", \"risk_label\": \"g_Gas optimization\", \"average_usd_per_risk\": 393.73401157044015}, {\"end_time\": \"2021-08\", \"risk_label\": \"0_Very low (unused since February 2022)\", \"average_usd_per_risk\": 0.0}, {\"end_time\": \"2021-08\", \"risk_label\": \"1_Low (unused since February 2022)\", \"average_usd_per_risk\": 1057.5110710093898}, {\"end_time\": \"2021-08\", \"risk_label\": \"2_Medium\", \"average_usd_per_risk\": 640.653252688172}, {\"end_time\": \"2021-08\", \"risk_label\": \"3_High\", \"average_usd_per_risk\": 1802.358489583333}, {\"end_time\": \"2021-08\", \"risk_label\": \"g_Gas optimization\", \"average_usd_per_risk\": 237.0710344827586}, {\"end_time\": \"2021-09\", \"risk_label\": \"0_Very low (unused since February 2022)\", \"average_usd_per_risk\": 0.0}, {\"end_time\": \"2021-09\", \"risk_label\": \"1_Low (unused since February 2022)\", \"average_usd_per_risk\": 2471.4324451110206}, {\"end_time\": \"2021-09\", \"risk_label\": \"2_Medium\", \"average_usd_per_risk\": 1289.8138320400615}, {\"end_time\": \"2021-09\", \"risk_label\": \"3_High\", \"average_usd_per_risk\": 6479.1488634954385}, {\"end_time\": \"2021-09\", \"risk_label\": \"g_Gas optimization\", \"average_usd_per_risk\": 328.18967779112904}, {\"end_time\": \"2021-10\", \"risk_label\": \"0_Very low (unused since February 2022)\", \"average_usd_per_risk\": 0.0}, {\"end_time\": \"2021-10\", \"risk_label\": \"1_Low (unused since February 2022)\", \"average_usd_per_risk\": 1040.698197678115}, {\"end_time\": \"2021-10\", \"risk_label\": \"2_Medium\", \"average_usd_per_risk\": 1542.7443164676804}, {\"end_time\": \"2021-10\", \"risk_label\": \"3_High\", \"average_usd_per_risk\": 4878.48607332755}, {\"end_time\": \"2021-10\", \"risk_label\": \"g_Gas optimization\", \"average_usd_per_risk\": 339.5347269712744}, {\"end_time\": \"2021-11\", \"risk_label\": \"0_Very low (unused since February 2022)\", \"average_usd_per_risk\": 0.0}, {\"end_time\": \"2021-11\", \"risk_label\": \"1_Low (unused since February 2022)\", \"average_usd_per_risk\": 482.8151318457935}, {\"end_time\": \"2021-11\", \"risk_label\": \"2_Medium\", \"average_usd_per_risk\": 606.3344720856486}, {\"end_time\": \"2021-11\", \"risk_label\": \"3_High\", \"average_usd_per_risk\": 1399.3407524154384}, {\"end_time\": \"2021-11\", \"risk_label\": \"g_Gas optimization\", \"average_usd_per_risk\": 118.94279185153057}, {\"end_time\": \"2021-12\", \"risk_label\": \"0_Very low (unused since February 2022)\", \"average_usd_per_risk\": 0.0}, {\"end_time\": \"2021-12\", \"risk_label\": \"1_Low (unused since February 2022)\", \"average_usd_per_risk\": 571.4138387531499}, {\"end_time\": \"2021-12\", \"risk_label\": \"2_Medium\", \"average_usd_per_risk\": 781.4715701532357}, {\"end_time\": \"2021-12\", \"risk_label\": \"3_High\", \"average_usd_per_risk\": 1141.4799128815628}, {\"end_time\": \"2021-12\", \"risk_label\": \"g_Gas optimization\", \"average_usd_per_risk\": 145.20831546516948}, {\"end_time\": \"2022-01\", \"risk_label\": \"0_Very low (unused since February 2022)\", \"average_usd_per_risk\": 0.0}, {\"end_time\": \"2022-01\", \"risk_label\": \"1_Low (unused since February 2022)\", \"average_usd_per_risk\": 368.1722527891285}, {\"end_time\": \"2022-01\", \"risk_label\": \"2_Medium\", \"average_usd_per_risk\": 555.3017254498526}, {\"end_time\": \"2022-01\", \"risk_label\": \"3_High\", \"average_usd_per_risk\": 832.6816712796999}, {\"end_time\": \"2022-01\", \"risk_label\": \"g_Gas optimization\", \"average_usd_per_risk\": 110.42649265523819}, {\"end_time\": \"2022-02\", \"risk_label\": \"0_Very low (unused since February 2022)\", \"average_usd_per_risk\": 0.0}, {\"end_time\": \"2022-02\", \"risk_label\": \"1_Low (unused since February 2022)\", \"average_usd_per_risk\": 430.44420313881517}, {\"end_time\": \"2022-02\", \"risk_label\": \"2_Medium\", \"average_usd_per_risk\": 997.8554076998265}, {\"end_time\": \"2022-02\", \"risk_label\": \"3_High\", \"average_usd_per_risk\": 777.4791973023425}, {\"end_time\": \"2022-02\", \"risk_label\": \"g_Gas optimization\", \"average_usd_per_risk\": 115.82319915405806}, {\"end_time\": \"2022-02\", \"risk_label\": \"q_QA report\", \"average_usd_per_risk\": 281.48104561009006}, {\"end_time\": \"2022-03\", \"risk_label\": \"2_Medium\", \"average_usd_per_risk\": 952.2255164997696}, {\"end_time\": \"2022-03\", \"risk_label\": \"3_High\", \"average_usd_per_risk\": 688.064612983524}, {\"end_time\": \"2022-03\", \"risk_label\": \"g_Gas optimization\", \"average_usd_per_risk\": 89.24461977894508}, {\"end_time\": \"2022-03\", \"risk_label\": \"q_QA report\", \"average_usd_per_risk\": 187.46182902992766}, {\"end_time\": \"2022-04\", \"risk_label\": \"2_Medium\", \"average_usd_per_risk\": 604.8380214802271}, {\"end_time\": \"2022-04\", \"risk_label\": \"3_High\", \"average_usd_per_risk\": 530.3557542599982}, {\"end_time\": \"2022-04\", \"risk_label\": \"g_Gas optimization\", \"average_usd_per_risk\": 66.66631990793458}, {\"end_time\": \"2022-04\", \"risk_label\": \"q_QA report\", \"average_usd_per_risk\": 131.87429075719646}, {\"end_time\": \"2022-05\", \"risk_label\": \"2_Medium\", \"average_usd_per_risk\": 419.2155957347848}, {\"end_time\": \"2022-05\", \"risk_label\": \"3_High\", \"average_usd_per_risk\": 399.1499318911856}, {\"end_time\": \"2022-05\", \"risk_label\": \"g_Gas optimization\", \"average_usd_per_risk\": 48.87898517444097}, {\"end_time\": \"2022-05\", \"risk_label\": \"q_QA report\", \"average_usd_per_risk\": 98.94397804899786}, {\"end_time\": \"2022-06\", \"risk_label\": \"2_Medium\", \"average_usd_per_risk\": 457.0894902588265}, {\"end_time\": \"2022-06\", \"risk_label\": \"3_High\", \"average_usd_per_risk\": 744.7155021987311}, {\"end_time\": \"2022-06\", \"risk_label\": \"g_Gas optimization\", \"average_usd_per_risk\": 79.25972102497423}, {\"end_time\": \"2022-06\", \"risk_label\": \"q_QA report\", \"average_usd_per_risk\": 152.6666929104432}, {\"end_time\": \"2022-07\", \"risk_label\": \"2_Medium\", \"average_usd_per_risk\": 214.1916826181015}, {\"end_time\": \"2022-07\", \"risk_label\": \"3_High\", \"average_usd_per_risk\": 310.6233410629609}, {\"end_time\": \"2022-07\", \"risk_label\": \"g_Gas optimization\", \"average_usd_per_risk\": 24.893203345842387}, {\"end_time\": \"2022-07\", \"risk_label\": \"q_QA report\", \"average_usd_per_risk\": 49.68294019701775}, {\"end_time\": \"2022-08\", \"risk_label\": \"2_Medium\", \"average_usd_per_risk\": 205.24386384483245}, {\"end_time\": \"2022-08\", \"risk_label\": \"3_High\", \"average_usd_per_risk\": 169.55153196129208}, {\"end_time\": \"2022-08\", \"risk_label\": \"g_Gas optimization\", \"average_usd_per_risk\": 24.218901326574745}, {\"end_time\": \"2022-08\", \"risk_label\": \"q_QA report\", \"average_usd_per_risk\": 49.484578105242676}], \"data-59124c1e8dd85da0b0d80c4c7dff89b3\": [{\"end_time\": \"2021-02\", \"risk_label\": \"0_Very low (unused since February 2022)\", \"contest\": 6}, {\"end_time\": \"2021-02\", \"risk_label\": \"1_Low (unused since February 2022)\", \"contest\": 17}, {\"end_time\": \"2021-02\", \"risk_label\": \"2_Medium\", \"contest\": 10}, {\"end_time\": \"2021-02\", \"risk_label\": \"3_High\", \"contest\": 1}, {\"end_time\": \"2021-02\", \"risk_label\": \"g_Gas optimization\", \"contest\": 8}, {\"end_time\": \"2021-03\", \"risk_label\": \"0_Very low (unused since February 2022)\", \"contest\": 3}, {\"end_time\": \"2021-03\", \"risk_label\": \"1_Low (unused since February 2022)\", \"contest\": 15}, {\"end_time\": \"2021-03\", \"risk_label\": \"2_Medium\", \"contest\": 9}, {\"end_time\": \"2021-03\", \"risk_label\": \"3_High\", \"contest\": 14}, {\"end_time\": \"2021-03\", \"risk_label\": \"g_Gas optimization\", \"contest\": 9}, {\"end_time\": \"2021-04\", \"risk_label\": \"0_Very low (unused since February 2022)\", \"contest\": 90}, {\"end_time\": \"2021-04\", \"risk_label\": \"1_Low (unused since February 2022)\", \"contest\": 98}, {\"end_time\": \"2021-04\", \"risk_label\": \"2_Medium\", \"contest\": 67}, {\"end_time\": \"2021-04\", \"risk_label\": \"3_High\", \"contest\": 89}, {\"end_time\": \"2021-04\", \"risk_label\": \"g_Gas optimization\", \"contest\": 154}, {\"end_time\": \"2021-05\", \"risk_label\": \"0_Very low (unused since February 2022)\", \"contest\": 71}, {\"end_time\": \"2021-05\", \"risk_label\": \"1_Low (unused since February 2022)\", \"contest\": 105}, {\"end_time\": \"2021-05\", \"risk_label\": \"2_Medium\", \"contest\": 54}, {\"end_time\": \"2021-05\", \"risk_label\": \"3_High\", \"contest\": 53}, {\"end_time\": \"2021-05\", \"risk_label\": \"g_Gas optimization\", \"contest\": 60}, {\"end_time\": \"2021-06\", \"risk_label\": \"0_Very low (unused since February 2022)\", \"contest\": 76}, {\"end_time\": \"2021-06\", \"risk_label\": \"1_Low (unused since February 2022)\", \"contest\": 128}, {\"end_time\": \"2021-06\", \"risk_label\": \"2_Medium\", \"contest\": 76}, {\"end_time\": \"2021-06\", \"risk_label\": \"3_High\", \"contest\": 33}, {\"end_time\": \"2021-06\", \"risk_label\": \"g_Gas optimization\", \"contest\": 74}, {\"end_time\": \"2021-07\", \"risk_label\": \"0_Very low (unused since February 2022)\", \"contest\": 165}, {\"end_time\": \"2021-07\", \"risk_label\": \"1_Low (unused since February 2022)\", \"contest\": 164}, {\"end_time\": \"2021-07\", \"risk_label\": \"2_Medium\", \"contest\": 69}, {\"end_time\": \"2021-07\", \"risk_label\": \"3_High\", \"contest\": 75}, {\"end_time\": \"2021-07\", \"risk_label\": \"g_Gas optimization\", \"contest\": 168}, {\"end_time\": \"2021-08\", \"risk_label\": \"0_Very low (unused since February 2022)\", \"contest\": 54}, {\"end_time\": \"2021-08\", \"risk_label\": \"1_Low (unused since February 2022)\", \"contest\": 71}, {\"end_time\": \"2021-08\", \"risk_label\": \"2_Medium\", \"contest\": 31}, {\"end_time\": \"2021-08\", \"risk_label\": \"3_High\", \"contest\": 12}, {\"end_time\": \"2021-08\", \"risk_label\": \"g_Gas optimization\", \"contest\": 58}, {\"end_time\": \"2021-09\", \"risk_label\": \"0_Very low (unused since February 2022)\", \"contest\": 268}, {\"end_time\": \"2021-09\", \"risk_label\": \"1_Low (unused since February 2022)\", \"contest\": 311}, {\"end_time\": \"2021-09\", \"risk_label\": \"2_Medium\", \"contest\": 116}, {\"end_time\": \"2021-09\", \"risk_label\": \"3_High\", \"contest\": 99}, {\"end_time\": \"2021-09\", \"risk_label\": \"g_Gas optimization\", \"contest\": 285}, {\"end_time\": \"2021-10\", \"risk_label\": \"0_Very low (unused since February 2022)\", \"contest\": 187}, {\"end_time\": \"2021-10\", \"risk_label\": \"1_Low (unused since February 2022)\", \"contest\": 188}, {\"end_time\": \"2021-10\", \"risk_label\": \"2_Medium\", \"contest\": 112}, {\"end_time\": \"2021-10\", \"risk_label\": \"3_High\", \"contest\": 100}, {\"end_time\": \"2021-10\", \"risk_label\": \"g_Gas optimization\", \"contest\": 365}, {\"end_time\": \"2021-11\", \"risk_label\": \"0_Very low (unused since February 2022)\", \"contest\": 272}, {\"end_time\": \"2021-11\", \"risk_label\": \"1_Low (unused since February 2022)\", \"contest\": 267}, {\"end_time\": \"2021-11\", \"risk_label\": \"2_Medium\", \"contest\": 132}, {\"end_time\": \"2021-11\", \"risk_label\": \"3_High\", \"contest\": 89}, {\"end_time\": \"2021-11\", \"risk_label\": \"g_Gas optimization\", \"contest\": 541}, {\"end_time\": \"2021-12\", \"risk_label\": \"0_Very low (unused since February 2022)\", \"contest\": 305}, {\"end_time\": \"2021-12\", \"risk_label\": \"1_Low (unused since February 2022)\", \"contest\": 423}, {\"end_time\": \"2021-12\", \"risk_label\": \"2_Medium\", \"contest\": 200}, {\"end_time\": \"2021-12\", \"risk_label\": \"3_High\", \"contest\": 173}, {\"end_time\": \"2021-12\", \"risk_label\": \"g_Gas optimization\", \"contest\": 878}, {\"end_time\": \"2022-01\", \"risk_label\": \"0_Very low (unused since February 2022)\", \"contest\": 258}, {\"end_time\": \"2022-01\", \"risk_label\": \"1_Low (unused since February 2022)\", \"contest\": 346}, {\"end_time\": \"2022-01\", \"risk_label\": \"2_Medium\", \"contest\": 181}, {\"end_time\": \"2022-01\", \"risk_label\": \"3_High\", \"contest\": 113}, {\"end_time\": \"2022-01\", \"risk_label\": \"g_Gas optimization\", \"contest\": 1006}, {\"end_time\": \"2022-02\", \"risk_label\": \"0_Very low (unused since February 2022)\", \"contest\": 89}, {\"end_time\": \"2022-02\", \"risk_label\": \"1_Low (unused since February 2022)\", \"contest\": 72}, {\"end_time\": \"2022-02\", \"risk_label\": \"2_Medium\", \"contest\": 299}, {\"end_time\": \"2022-02\", \"risk_label\": \"3_High\", \"contest\": 95}, {\"end_time\": \"2022-02\", \"risk_label\": \"g_Gas optimization\", \"contest\": 410}, {\"end_time\": \"2022-02\", \"risk_label\": \"q_QA report\", \"contest\": 201}, {\"end_time\": \"2022-03\", \"risk_label\": \"2_Medium\", \"contest\": 229}, {\"end_time\": \"2022-03\", \"risk_label\": \"3_High\", \"contest\": 51}, {\"end_time\": \"2022-03\", \"risk_label\": \"g_Gas optimization\", \"contest\": 175}, {\"end_time\": \"2022-03\", \"risk_label\": \"q_QA report\", \"contest\": 207}, {\"end_time\": \"2022-04\", \"risk_label\": \"2_Medium\", \"contest\": 240}, {\"end_time\": \"2022-04\", \"risk_label\": \"3_High\", \"contest\": 131}, {\"end_time\": \"2022-04\", \"risk_label\": \"g_Gas optimization\", \"contest\": 290}, {\"end_time\": \"2022-04\", \"risk_label\": \"q_QA report\", \"contest\": 338}, {\"end_time\": \"2022-05\", \"risk_label\": \"2_Medium\", \"contest\": 770}, {\"end_time\": \"2022-05\", \"risk_label\": \"3_High\", \"contest\": 201}, {\"end_time\": \"2022-05\", \"risk_label\": \"g_Gas optimization\", \"contest\": 618}, {\"end_time\": \"2022-05\", \"risk_label\": \"q_QA report\", \"contest\": 685}, {\"end_time\": \"2022-06\", \"risk_label\": \"2_Medium\", \"contest\": 371}, {\"end_time\": \"2022-06\", \"risk_label\": \"3_High\", \"contest\": 320}, {\"end_time\": \"2022-06\", \"risk_label\": \"g_Gas optimization\", \"contest\": 572}, {\"end_time\": \"2022-06\", \"risk_label\": \"q_QA report\", \"contest\": 634}, {\"end_time\": \"2022-07\", \"risk_label\": \"2_Medium\", \"contest\": 345}, {\"end_time\": \"2022-07\", \"risk_label\": \"3_High\", \"contest\": 218}, {\"end_time\": \"2022-07\", \"risk_label\": \"g_Gas optimization\", \"contest\": 372}, {\"end_time\": \"2022-07\", \"risk_label\": \"q_QA report\", \"contest\": 368}, {\"end_time\": \"2022-08\", \"risk_label\": \"2_Medium\", \"contest\": 79}, {\"end_time\": \"2022-08\", \"risk_label\": \"3_High\", \"contest\": 58}, {\"end_time\": \"2022-08\", \"risk_label\": \"g_Gas optimization\", \"contest\": 131}, {\"end_time\": \"2022-08\", \"risk_label\": \"q_QA report\", \"contest\": 149}]}}, {\"mode\": \"vega-lite\"});\n",
       "</script>"
      ],
      "text/plain": [
       "alt.VConcatChart(...)"
      ]
     },
     "execution_count": 13,
     "metadata": {},
     "output_type": "execute_result"
    }
   ],
   "source": [
    "rewards & (weighted_rewards + submissions).resolve_scale(y='independent')"
   ]
  },
  {
   "cell_type": "code",
   "execution_count": null,
   "id": "eab9f047",
   "metadata": {},
   "outputs": [],
   "source": []
  }
 ],
 "metadata": {
  "kernelspec": {
   "display_name": "Python 3 (ipykernel)",
   "language": "python",
   "name": "python3"
  },
  "language_info": {
   "codemirror_mode": {
    "name": "ipython",
    "version": 3
   },
   "file_extension": ".py",
   "mimetype": "text/x-python",
   "name": "python",
   "nbconvert_exporter": "python",
   "pygments_lexer": "ipython3",
   "version": "3.8.3"
  }
 },
 "nbformat": 4,
 "nbformat_minor": 5
}
