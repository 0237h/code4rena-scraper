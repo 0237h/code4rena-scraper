{
 "cells": [
  {
   "cell_type": "code",
   "execution_count": 1,
   "id": "5de0fa20",
   "metadata": {},
   "outputs": [],
   "source": [
    "import pandas as pd\n",
    "import altair as alt"
   ]
  },
  {
   "cell_type": "code",
   "execution_count": 2,
   "id": "9d1203fb",
   "metadata": {},
   "outputs": [
    {
     "data": {
      "text/plain": [
       "DataTransformerRegistry.enable('default')"
      ]
     },
     "execution_count": 2,
     "metadata": {},
     "output_type": "execute_result"
    }
   ],
   "source": [
    "alt.data_transformers.disable_max_rows()"
   ]
  },
  {
   "cell_type": "code",
   "execution_count": 3,
   "id": "72690c0e",
   "metadata": {},
   "outputs": [],
   "source": [
    "data = pd.read_csv(\"https://raw.githubusercontent.com/Krow10/code4rena-scraper/master/github_code4rena.csv\")\n",
    "data[\"date\"] = pd.to_datetime(data[\"date\"])\n",
    "plt_data = pd.DataFrame()"
   ]
  },
  {
   "cell_type": "markdown",
   "id": "aef95b25",
   "metadata": {},
   "source": [
    "### Active wardens\n",
    "Represents the number of wardens who participated in at least one contest during the month"
   ]
  },
  {
   "cell_type": "code",
   "execution_count": 4,
   "id": "15007a51",
   "metadata": {},
   "outputs": [],
   "source": [
    "plt_data[\"active_wardens\"] = data.groupby(\"date\")[\"handle\"].nunique()"
   ]
  },
  {
   "cell_type": "markdown",
   "id": "ce2a9dde",
   "metadata": {},
   "source": [
    "### Inactive wardens\n",
    "Represents wardens who have only been active for one month maximum "
   ]
  },
  {
   "cell_type": "code",
   "execution_count": 5,
   "id": "30b03e60",
   "metadata": {},
   "outputs": [],
   "source": [
    "one_timers = data.groupby([\"handle\", \"date\"]).size().groupby(level=0).size().to_frame()[lambda x: x.iloc[:, [0]] <= 1].dropna().reset_index()[\"handle\"]\n",
    "plt_data[\"inactive_wardens\"] = data[data[\"handle\"].isin(one_timers)].groupby(\"date\")[\"handle\"].nunique().shift(1, fill_value=0)"
   ]
  },
  {
   "cell_type": "markdown",
   "id": "0b02cfea",
   "metadata": {},
   "source": [
    "### New wardens\n",
    "Represents wardens that made their first contest appearance during the month"
   ]
  },
  {
   "cell_type": "code",
   "execution_count": 6,
   "id": "4034df57",
   "metadata": {},
   "outputs": [],
   "source": [
    "plt_data[\"new_wardens\"] = (data.groupby(\"date\")[\"handle\"].unique().map(lambda x: set(x)) - data.groupby(\"date\")[\"handle\"].unique().map(lambda x: set(x)).shift(1)).map(lambda x: len(x) if isinstance(x, set) else 0)\n",
    "plt_data.iat[0, 2] = plt_data.iat[0, 0] # Active wardens = New wardens for first contest"
   ]
  },
  {
   "cell_type": "markdown",
   "id": "df97972e",
   "metadata": {},
   "source": [
    "### Non-participating wardens\n",
    "Wardens who have been active at different times and have not participated for this particular month (doesn't include inactive wardens)"
   ]
  },
  {
   "cell_type": "code",
   "execution_count": 7,
   "id": "ac36a961",
   "metadata": {},
   "outputs": [],
   "source": [
    "plt_data[\"total_inactive_wardens\"] = plt_data[\"inactive_wardens\"].cumsum()\n",
    "plt_data[\"total_wardens\"] = plt_data[\"new_wardens\"].cumsum()\n",
    "plt_data[\"non_participating_wardens\"] = plt_data[\"total_wardens\"] - plt_data[\"active_wardens\"] - plt_data[\"total_inactive_wardens\"]\n",
    "plt_data.reset_index(inplace=True)"
   ]
  },
  {
   "cell_type": "code",
   "execution_count": 8,
   "id": "5b9e1e92",
   "metadata": {
    "scrolled": false
   },
   "outputs": [
    {
     "data": {
      "text/html": [
       "<div>\n",
       "<style scoped>\n",
       "    .dataframe tbody tr th:only-of-type {\n",
       "        vertical-align: middle;\n",
       "    }\n",
       "\n",
       "    .dataframe tbody tr th {\n",
       "        vertical-align: top;\n",
       "    }\n",
       "\n",
       "    .dataframe thead th {\n",
       "        text-align: right;\n",
       "    }\n",
       "</style>\n",
       "<table border=\"1\" class=\"dataframe\">\n",
       "  <thead>\n",
       "    <tr style=\"text-align: right;\">\n",
       "      <th></th>\n",
       "      <th>date</th>\n",
       "      <th>active_wardens</th>\n",
       "      <th>inactive_wardens</th>\n",
       "      <th>new_wardens</th>\n",
       "      <th>total_inactive_wardens</th>\n",
       "      <th>total_wardens</th>\n",
       "      <th>non_participating_wardens</th>\n",
       "    </tr>\n",
       "  </thead>\n",
       "  <tbody>\n",
       "    <tr>\n",
       "      <th>0</th>\n",
       "      <td>2021-04-01</td>\n",
       "      <td>17</td>\n",
       "      <td>0</td>\n",
       "      <td>17</td>\n",
       "      <td>0</td>\n",
       "      <td>17</td>\n",
       "      <td>0</td>\n",
       "    </tr>\n",
       "    <tr>\n",
       "      <th>1</th>\n",
       "      <td>2021-05-01</td>\n",
       "      <td>22</td>\n",
       "      <td>3</td>\n",
       "      <td>8</td>\n",
       "      <td>3</td>\n",
       "      <td>25</td>\n",
       "      <td>0</td>\n",
       "    </tr>\n",
       "    <tr>\n",
       "      <th>2</th>\n",
       "      <td>2021-06-01</td>\n",
       "      <td>19</td>\n",
       "      <td>5</td>\n",
       "      <td>7</td>\n",
       "      <td>8</td>\n",
       "      <td>32</td>\n",
       "      <td>5</td>\n",
       "    </tr>\n",
       "    <tr>\n",
       "      <th>3</th>\n",
       "      <td>2021-07-01</td>\n",
       "      <td>28</td>\n",
       "      <td>2</td>\n",
       "      <td>14</td>\n",
       "      <td>10</td>\n",
       "      <td>46</td>\n",
       "      <td>8</td>\n",
       "    </tr>\n",
       "    <tr>\n",
       "      <th>4</th>\n",
       "      <td>2021-08-01</td>\n",
       "      <td>30</td>\n",
       "      <td>6</td>\n",
       "      <td>15</td>\n",
       "      <td>16</td>\n",
       "      <td>61</td>\n",
       "      <td>15</td>\n",
       "    </tr>\n",
       "    <tr>\n",
       "      <th>5</th>\n",
       "      <td>2021-09-01</td>\n",
       "      <td>38</td>\n",
       "      <td>7</td>\n",
       "      <td>22</td>\n",
       "      <td>23</td>\n",
       "      <td>83</td>\n",
       "      <td>22</td>\n",
       "    </tr>\n",
       "    <tr>\n",
       "      <th>6</th>\n",
       "      <td>2021-10-01</td>\n",
       "      <td>37</td>\n",
       "      <td>5</td>\n",
       "      <td>17</td>\n",
       "      <td>28</td>\n",
       "      <td>100</td>\n",
       "      <td>35</td>\n",
       "    </tr>\n",
       "    <tr>\n",
       "      <th>7</th>\n",
       "      <td>2021-11-01</td>\n",
       "      <td>80</td>\n",
       "      <td>5</td>\n",
       "      <td>53</td>\n",
       "      <td>33</td>\n",
       "      <td>153</td>\n",
       "      <td>40</td>\n",
       "    </tr>\n",
       "    <tr>\n",
       "      <th>8</th>\n",
       "      <td>2021-12-01</td>\n",
       "      <td>65</td>\n",
       "      <td>14</td>\n",
       "      <td>29</td>\n",
       "      <td>47</td>\n",
       "      <td>182</td>\n",
       "      <td>70</td>\n",
       "    </tr>\n",
       "    <tr>\n",
       "      <th>9</th>\n",
       "      <td>2022-01-01</td>\n",
       "      <td>119</td>\n",
       "      <td>7</td>\n",
       "      <td>71</td>\n",
       "      <td>54</td>\n",
       "      <td>253</td>\n",
       "      <td>80</td>\n",
       "    </tr>\n",
       "    <tr>\n",
       "      <th>10</th>\n",
       "      <td>2022-02-01</td>\n",
       "      <td>102</td>\n",
       "      <td>16</td>\n",
       "      <td>33</td>\n",
       "      <td>70</td>\n",
       "      <td>286</td>\n",
       "      <td>114</td>\n",
       "    </tr>\n",
       "    <tr>\n",
       "      <th>11</th>\n",
       "      <td>2022-03-01</td>\n",
       "      <td>113</td>\n",
       "      <td>12</td>\n",
       "      <td>53</td>\n",
       "      <td>82</td>\n",
       "      <td>339</td>\n",
       "      <td>144</td>\n",
       "    </tr>\n",
       "    <tr>\n",
       "      <th>12</th>\n",
       "      <td>2022-04-01</td>\n",
       "      <td>155</td>\n",
       "      <td>12</td>\n",
       "      <td>77</td>\n",
       "      <td>94</td>\n",
       "      <td>416</td>\n",
       "      <td>167</td>\n",
       "    </tr>\n",
       "    <tr>\n",
       "      <th>13</th>\n",
       "      <td>2022-05-01</td>\n",
       "      <td>228</td>\n",
       "      <td>18</td>\n",
       "      <td>116</td>\n",
       "      <td>112</td>\n",
       "      <td>532</td>\n",
       "      <td>192</td>\n",
       "    </tr>\n",
       "    <tr>\n",
       "      <th>14</th>\n",
       "      <td>2022-06-01</td>\n",
       "      <td>226</td>\n",
       "      <td>46</td>\n",
       "      <td>94</td>\n",
       "      <td>158</td>\n",
       "      <td>626</td>\n",
       "      <td>242</td>\n",
       "    </tr>\n",
       "    <tr>\n",
       "      <th>15</th>\n",
       "      <td>2022-07-01</td>\n",
       "      <td>168</td>\n",
       "      <td>27</td>\n",
       "      <td>48</td>\n",
       "      <td>185</td>\n",
       "      <td>674</td>\n",
       "      <td>321</td>\n",
       "    </tr>\n",
       "    <tr>\n",
       "      <th>16</th>\n",
       "      <td>2022-08-01</td>\n",
       "      <td>187</td>\n",
       "      <td>20</td>\n",
       "      <td>87</td>\n",
       "      <td>205</td>\n",
       "      <td>761</td>\n",
       "      <td>369</td>\n",
       "    </tr>\n",
       "  </tbody>\n",
       "</table>\n",
       "</div>"
      ],
      "text/plain": [
       "         date  active_wardens  inactive_wardens  new_wardens  \\\n",
       "0  2021-04-01              17                 0           17   \n",
       "1  2021-05-01              22                 3            8   \n",
       "2  2021-06-01              19                 5            7   \n",
       "3  2021-07-01              28                 2           14   \n",
       "4  2021-08-01              30                 6           15   \n",
       "5  2021-09-01              38                 7           22   \n",
       "6  2021-10-01              37                 5           17   \n",
       "7  2021-11-01              80                 5           53   \n",
       "8  2021-12-01              65                14           29   \n",
       "9  2022-01-01             119                 7           71   \n",
       "10 2022-02-01             102                16           33   \n",
       "11 2022-03-01             113                12           53   \n",
       "12 2022-04-01             155                12           77   \n",
       "13 2022-05-01             228                18          116   \n",
       "14 2022-06-01             226                46           94   \n",
       "15 2022-07-01             168                27           48   \n",
       "16 2022-08-01             187                20           87   \n",
       "\n",
       "    total_inactive_wardens  total_wardens  non_participating_wardens  \n",
       "0                        0             17                          0  \n",
       "1                        3             25                          0  \n",
       "2                        8             32                          5  \n",
       "3                       10             46                          8  \n",
       "4                       16             61                         15  \n",
       "5                       23             83                         22  \n",
       "6                       28            100                         35  \n",
       "7                       33            153                         40  \n",
       "8                       47            182                         70  \n",
       "9                       54            253                         80  \n",
       "10                      70            286                        114  \n",
       "11                      82            339                        144  \n",
       "12                      94            416                        167  \n",
       "13                     112            532                        192  \n",
       "14                     158            626                        242  \n",
       "15                     185            674                        321  \n",
       "16                     205            761                        369  "
      ]
     },
     "execution_count": 8,
     "metadata": {},
     "output_type": "execute_result"
    }
   ],
   "source": [
    "plt_data"
   ]
  },
  {
   "cell_type": "code",
   "execution_count": 9,
   "id": "7896954e",
   "metadata": {},
   "outputs": [],
   "source": [
    "base = alt.Chart(plt_data).transform_fold(\n",
    "    ['non_participating_wardens', 'total_inactive_wardens', 'active_wardens'],\n",
    "    as_=['column', 'value']\n",
    ").encode(\n",
    "    x=alt.X('date:T', axis=alt.Axis(format='%m/%y', title='', grid=False)),\n",
    "    y=alt.Y('value:Q', axis=alt.Axis(title='Total warden count')),\n",
    ")"
   ]
  },
  {
   "cell_type": "code",
   "execution_count": 10,
   "id": "976b40f7",
   "metadata": {},
   "outputs": [],
   "source": [
    "bars = base.mark_bar(size=30).encode(\n",
    "    color=alt.Color('column:N', title='Warden categories'),\n",
    ")"
   ]
  },
  {
   "cell_type": "code",
   "execution_count": 11,
   "id": "b9a3b724",
   "metadata": {},
   "outputs": [],
   "source": [
    "active_labels = base.mark_text(\n",
    "    dy=10,\n",
    "    color='white'\n",
    ").transform_calculate(\n",
    "    percentActive=\"datum.active_wardens / datum.total_wardens\",\n",
    "    percentNonParticipating=\"datum.non_participating_wardens / datum.total_wardens\",\n",
    "    percentInactive=\"datum.total_inactive_wardens / datum.total_wardens\"\n",
    ").encode(\n",
    "    y='total_wardens:Q',\n",
    "    text=alt.Text('percentActive:Q', format='.0%')\n",
    ")"
   ]
  },
  {
   "cell_type": "code",
   "execution_count": 12,
   "id": "142f82fd",
   "metadata": {},
   "outputs": [],
   "source": [
    "non_p_labels = base.mark_text(\n",
    "    dy=10,\n",
    "    color='white'\n",
    ").transform_calculate(\n",
    "    dy='datum.non_participating_wardens + datum.total_inactive_wardens',\n",
    "    percentNonParticipating=\"datum.non_participating_wardens / datum.total_wardens\"\n",
    ").encode(\n",
    "    y='dy:Q',\n",
    "    text=alt.Text('percentNonParticipating:Q', format='.0%'),\n",
    "    opacity=alt.condition('datum.non_participating_wardens > 10', alt.value(1), alt.value(0))\n",
    ")"
   ]
  },
  {
   "cell_type": "code",
   "execution_count": 13,
   "id": "c30dac5e",
   "metadata": {},
   "outputs": [],
   "source": [
    "inactive_labels = base.mark_text(\n",
    "    dy=10,\n",
    "    color='white'\n",
    ").transform_calculate(\n",
    "    percentInactive=\"datum.total_inactive_wardens / datum.total_wardens\"\n",
    ").encode(\n",
    "    y='total_inactive_wardens:Q',\n",
    "    text=alt.Text('percentInactive:Q', format='.0%'),\n",
    "    opacity=alt.condition('datum.total_inactive_wardens > 10', alt.value(1), alt.value(0))\n",
    ")"
   ]
  },
  {
   "cell_type": "code",
   "execution_count": 14,
   "id": "f7c43c0a",
   "metadata": {},
   "outputs": [
    {
     "data": {
      "text/html": [
       "\n",
       "<div id=\"altair-viz-3651afd1c6ca408eb192d15e2ef8daba\"></div>\n",
       "<script type=\"text/javascript\">\n",
       "  var VEGA_DEBUG = (typeof VEGA_DEBUG == \"undefined\") ? {} : VEGA_DEBUG;\n",
       "  (function(spec, embedOpt){\n",
       "    let outputDiv = document.currentScript.previousElementSibling;\n",
       "    if (outputDiv.id !== \"altair-viz-3651afd1c6ca408eb192d15e2ef8daba\") {\n",
       "      outputDiv = document.getElementById(\"altair-viz-3651afd1c6ca408eb192d15e2ef8daba\");\n",
       "    }\n",
       "    const paths = {\n",
       "      \"vega\": \"https://cdn.jsdelivr.net/npm//vega@5?noext\",\n",
       "      \"vega-lib\": \"https://cdn.jsdelivr.net/npm//vega-lib?noext\",\n",
       "      \"vega-lite\": \"https://cdn.jsdelivr.net/npm//vega-lite@4.17.0?noext\",\n",
       "      \"vega-embed\": \"https://cdn.jsdelivr.net/npm//vega-embed@6?noext\",\n",
       "    };\n",
       "\n",
       "    function maybeLoadScript(lib, version) {\n",
       "      var key = `${lib.replace(\"-\", \"\")}_version`;\n",
       "      return (VEGA_DEBUG[key] == version) ?\n",
       "        Promise.resolve(paths[lib]) :\n",
       "        new Promise(function(resolve, reject) {\n",
       "          var s = document.createElement('script');\n",
       "          document.getElementsByTagName(\"head\")[0].appendChild(s);\n",
       "          s.async = true;\n",
       "          s.onload = () => {\n",
       "            VEGA_DEBUG[key] = version;\n",
       "            return resolve(paths[lib]);\n",
       "          };\n",
       "          s.onerror = () => reject(`Error loading script: ${paths[lib]}`);\n",
       "          s.src = paths[lib];\n",
       "        });\n",
       "    }\n",
       "\n",
       "    function showError(err) {\n",
       "      outputDiv.innerHTML = `<div class=\"error\" style=\"color:red;\">${err}</div>`;\n",
       "      throw err;\n",
       "    }\n",
       "\n",
       "    function displayChart(vegaEmbed) {\n",
       "      vegaEmbed(outputDiv, spec, embedOpt)\n",
       "        .catch(err => showError(`Javascript Error: ${err.message}<br>This usually means there's a typo in your chart specification. See the javascript console for the full traceback.`));\n",
       "    }\n",
       "\n",
       "    if(typeof define === \"function\" && define.amd) {\n",
       "      requirejs.config({paths});\n",
       "      require([\"vega-embed\"], displayChart, err => showError(`Error loading script: ${err.message}`));\n",
       "    } else {\n",
       "      maybeLoadScript(\"vega\", \"5\")\n",
       "        .then(() => maybeLoadScript(\"vega-lite\", \"4.17.0\"))\n",
       "        .then(() => maybeLoadScript(\"vega-embed\", \"6\"))\n",
       "        .catch(showError)\n",
       "        .then(() => displayChart(vegaEmbed));\n",
       "    }\n",
       "  })({\"config\": {\"view\": {\"continuousWidth\": 400, \"continuousHeight\": 300}}, \"layer\": [{\"mark\": {\"type\": \"bar\", \"size\": 30}, \"encoding\": {\"color\": {\"field\": \"column\", \"title\": \"Warden categories\", \"type\": \"nominal\"}, \"x\": {\"axis\": {\"format\": \"%m/%y\", \"grid\": false, \"title\": \"\"}, \"field\": \"date\", \"type\": \"temporal\"}, \"y\": {\"axis\": {\"title\": \"Total warden count\"}, \"field\": \"value\", \"type\": \"quantitative\"}}, \"transform\": [{\"fold\": [\"non_participating_wardens\", \"total_inactive_wardens\", \"active_wardens\"], \"as\": [\"column\", \"value\"]}]}, {\"mark\": {\"type\": \"text\", \"color\": \"white\", \"dy\": 10}, \"encoding\": {\"text\": {\"field\": \"percentActive\", \"format\": \".0%\", \"type\": \"quantitative\"}, \"x\": {\"axis\": {\"format\": \"%m/%y\", \"grid\": false, \"title\": \"\"}, \"field\": \"date\", \"type\": \"temporal\"}, \"y\": {\"field\": \"total_wardens\", \"type\": \"quantitative\"}}, \"transform\": [{\"fold\": [\"non_participating_wardens\", \"total_inactive_wardens\", \"active_wardens\"], \"as\": [\"column\", \"value\"]}, {\"calculate\": \"datum.active_wardens / datum.total_wardens\", \"as\": \"percentActive\"}, {\"calculate\": \"datum.non_participating_wardens / datum.total_wardens\", \"as\": \"percentNonParticipating\"}, {\"calculate\": \"datum.total_inactive_wardens / datum.total_wardens\", \"as\": \"percentInactive\"}]}, {\"mark\": {\"type\": \"text\", \"color\": \"white\", \"dy\": 10}, \"encoding\": {\"opacity\": {\"condition\": {\"value\": 1, \"test\": \"datum.non_participating_wardens > 10\"}, \"value\": 0}, \"text\": {\"field\": \"percentNonParticipating\", \"format\": \".0%\", \"type\": \"quantitative\"}, \"x\": {\"axis\": {\"format\": \"%m/%y\", \"grid\": false, \"title\": \"\"}, \"field\": \"date\", \"type\": \"temporal\"}, \"y\": {\"field\": \"dy\", \"type\": \"quantitative\"}}, \"transform\": [{\"fold\": [\"non_participating_wardens\", \"total_inactive_wardens\", \"active_wardens\"], \"as\": [\"column\", \"value\"]}, {\"calculate\": \"datum.non_participating_wardens + datum.total_inactive_wardens\", \"as\": \"dy\"}, {\"calculate\": \"datum.non_participating_wardens / datum.total_wardens\", \"as\": \"percentNonParticipating\"}]}, {\"mark\": {\"type\": \"text\", \"color\": \"white\", \"dy\": 10}, \"encoding\": {\"opacity\": {\"condition\": {\"value\": 1, \"test\": \"datum.total_inactive_wardens > 10\"}, \"value\": 0}, \"text\": {\"field\": \"percentInactive\", \"format\": \".0%\", \"type\": \"quantitative\"}, \"x\": {\"axis\": {\"format\": \"%m/%y\", \"grid\": false, \"title\": \"\"}, \"field\": \"date\", \"type\": \"temporal\"}, \"y\": {\"field\": \"total_inactive_wardens\", \"type\": \"quantitative\"}}, \"transform\": [{\"fold\": [\"non_participating_wardens\", \"total_inactive_wardens\", \"active_wardens\"], \"as\": [\"column\", \"value\"]}, {\"calculate\": \"datum.total_inactive_wardens / datum.total_wardens\", \"as\": \"percentInactive\"}]}], \"data\": {\"name\": \"data-da9ee59594c6f75761cef687267d02e0\"}, \"height\": 400, \"width\": 700, \"$schema\": \"https://vega.github.io/schema/vega-lite/v4.17.0.json\", \"datasets\": {\"data-da9ee59594c6f75761cef687267d02e0\": [{\"date\": \"2021-04-01T00:00:00\", \"active_wardens\": 17, \"inactive_wardens\": 0, \"new_wardens\": 17, \"total_inactive_wardens\": 0, \"total_wardens\": 17, \"non_participating_wardens\": 0}, {\"date\": \"2021-05-01T00:00:00\", \"active_wardens\": 22, \"inactive_wardens\": 3, \"new_wardens\": 8, \"total_inactive_wardens\": 3, \"total_wardens\": 25, \"non_participating_wardens\": 0}, {\"date\": \"2021-06-01T00:00:00\", \"active_wardens\": 19, \"inactive_wardens\": 5, \"new_wardens\": 7, \"total_inactive_wardens\": 8, \"total_wardens\": 32, \"non_participating_wardens\": 5}, {\"date\": \"2021-07-01T00:00:00\", \"active_wardens\": 28, \"inactive_wardens\": 2, \"new_wardens\": 14, \"total_inactive_wardens\": 10, \"total_wardens\": 46, \"non_participating_wardens\": 8}, {\"date\": \"2021-08-01T00:00:00\", \"active_wardens\": 30, \"inactive_wardens\": 6, \"new_wardens\": 15, \"total_inactive_wardens\": 16, \"total_wardens\": 61, \"non_participating_wardens\": 15}, {\"date\": \"2021-09-01T00:00:00\", \"active_wardens\": 38, \"inactive_wardens\": 7, \"new_wardens\": 22, \"total_inactive_wardens\": 23, \"total_wardens\": 83, \"non_participating_wardens\": 22}, {\"date\": \"2021-10-01T00:00:00\", \"active_wardens\": 37, \"inactive_wardens\": 5, \"new_wardens\": 17, \"total_inactive_wardens\": 28, \"total_wardens\": 100, \"non_participating_wardens\": 35}, {\"date\": \"2021-11-01T00:00:00\", \"active_wardens\": 80, \"inactive_wardens\": 5, \"new_wardens\": 53, \"total_inactive_wardens\": 33, \"total_wardens\": 153, \"non_participating_wardens\": 40}, {\"date\": \"2021-12-01T00:00:00\", \"active_wardens\": 65, \"inactive_wardens\": 14, \"new_wardens\": 29, \"total_inactive_wardens\": 47, \"total_wardens\": 182, \"non_participating_wardens\": 70}, {\"date\": \"2022-01-01T00:00:00\", \"active_wardens\": 119, \"inactive_wardens\": 7, \"new_wardens\": 71, \"total_inactive_wardens\": 54, \"total_wardens\": 253, \"non_participating_wardens\": 80}, {\"date\": \"2022-02-01T00:00:00\", \"active_wardens\": 102, \"inactive_wardens\": 16, \"new_wardens\": 33, \"total_inactive_wardens\": 70, \"total_wardens\": 286, \"non_participating_wardens\": 114}, {\"date\": \"2022-03-01T00:00:00\", \"active_wardens\": 113, \"inactive_wardens\": 12, \"new_wardens\": 53, \"total_inactive_wardens\": 82, \"total_wardens\": 339, \"non_participating_wardens\": 144}, {\"date\": \"2022-04-01T00:00:00\", \"active_wardens\": 155, \"inactive_wardens\": 12, \"new_wardens\": 77, \"total_inactive_wardens\": 94, \"total_wardens\": 416, \"non_participating_wardens\": 167}, {\"date\": \"2022-05-01T00:00:00\", \"active_wardens\": 228, \"inactive_wardens\": 18, \"new_wardens\": 116, \"total_inactive_wardens\": 112, \"total_wardens\": 532, \"non_participating_wardens\": 192}, {\"date\": \"2022-06-01T00:00:00\", \"active_wardens\": 226, \"inactive_wardens\": 46, \"new_wardens\": 94, \"total_inactive_wardens\": 158, \"total_wardens\": 626, \"non_participating_wardens\": 242}, {\"date\": \"2022-07-01T00:00:00\", \"active_wardens\": 168, \"inactive_wardens\": 27, \"new_wardens\": 48, \"total_inactive_wardens\": 185, \"total_wardens\": 674, \"non_participating_wardens\": 321}, {\"date\": \"2022-08-01T00:00:00\", \"active_wardens\": 187, \"inactive_wardens\": 20, \"new_wardens\": 87, \"total_inactive_wardens\": 205, \"total_wardens\": 761, \"non_participating_wardens\": 369}]}}, {\"mode\": \"vega-lite\"});\n",
       "</script>"
      ],
      "text/plain": [
       "alt.LayerChart(...)"
      ]
     },
     "execution_count": 14,
     "metadata": {},
     "output_type": "execute_result"
    }
   ],
   "source": [
    "(bars + active_labels + non_p_labels + inactive_labels).properties(width=700,height=400)"
   ]
  },
  {
   "cell_type": "code",
   "execution_count": null,
   "id": "0a4ec6e1",
   "metadata": {},
   "outputs": [],
   "source": []
  }
 ],
 "metadata": {
  "kernelspec": {
   "display_name": "Python 3 (ipykernel)",
   "language": "python",
   "name": "python3"
  },
  "language_info": {
   "codemirror_mode": {
    "name": "ipython",
    "version": 3
   },
   "file_extension": ".py",
   "mimetype": "text/x-python",
   "name": "python",
   "nbconvert_exporter": "python",
   "pygments_lexer": "ipython3",
   "version": "3.8.3"
  }
 },
 "nbformat": 4,
 "nbformat_minor": 5
}
